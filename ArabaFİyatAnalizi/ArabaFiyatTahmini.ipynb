{
 "cells": [
  {
   "cell_type": "code",
   "execution_count": 81,
   "metadata": {},
   "outputs": [],
   "source": [
    "import pandas as pd\n",
    "import numpy as np\n",
    "import matplotlib.pyplot as plt\n",
    "import seaborn as sbn"
   ]
  },
  {
   "cell_type": "code",
   "execution_count": 82,
   "metadata": {},
   "outputs": [],
   "source": [
    "dataFrame = pd.read_excel(\"merc.xlsx\")"
   ]
  },
  {
   "cell_type": "code",
   "execution_count": 83,
   "metadata": {},
   "outputs": [
    {
     "data": {
      "text/html": [
       "<div>\n",
       "<style scoped>\n",
       "    .dataframe tbody tr th:only-of-type {\n",
       "        vertical-align: middle;\n",
       "    }\n",
       "\n",
       "    .dataframe tbody tr th {\n",
       "        vertical-align: top;\n",
       "    }\n",
       "\n",
       "    .dataframe thead th {\n",
       "        text-align: right;\n",
       "    }\n",
       "</style>\n",
       "<table border=\"1\" class=\"dataframe\">\n",
       "  <thead>\n",
       "    <tr style=\"text-align: right;\">\n",
       "      <th></th>\n",
       "      <th>year</th>\n",
       "      <th>price</th>\n",
       "      <th>transmission</th>\n",
       "      <th>mileage</th>\n",
       "      <th>tax</th>\n",
       "      <th>mpg</th>\n",
       "      <th>engineSize</th>\n",
       "    </tr>\n",
       "  </thead>\n",
       "  <tbody>\n",
       "    <tr>\n",
       "      <th>0</th>\n",
       "      <td>2005</td>\n",
       "      <td>5200</td>\n",
       "      <td>Automatic</td>\n",
       "      <td>63000</td>\n",
       "      <td>325</td>\n",
       "      <td>32.1</td>\n",
       "      <td>1.8</td>\n",
       "    </tr>\n",
       "    <tr>\n",
       "      <th>1</th>\n",
       "      <td>2017</td>\n",
       "      <td>34948</td>\n",
       "      <td>Automatic</td>\n",
       "      <td>27000</td>\n",
       "      <td>20</td>\n",
       "      <td>61.4</td>\n",
       "      <td>2.1</td>\n",
       "    </tr>\n",
       "    <tr>\n",
       "      <th>2</th>\n",
       "      <td>2016</td>\n",
       "      <td>49948</td>\n",
       "      <td>Automatic</td>\n",
       "      <td>6200</td>\n",
       "      <td>555</td>\n",
       "      <td>28.0</td>\n",
       "      <td>5.5</td>\n",
       "    </tr>\n",
       "    <tr>\n",
       "      <th>3</th>\n",
       "      <td>2016</td>\n",
       "      <td>61948</td>\n",
       "      <td>Automatic</td>\n",
       "      <td>16000</td>\n",
       "      <td>325</td>\n",
       "      <td>30.4</td>\n",
       "      <td>4.0</td>\n",
       "    </tr>\n",
       "    <tr>\n",
       "      <th>4</th>\n",
       "      <td>2016</td>\n",
       "      <td>73948</td>\n",
       "      <td>Automatic</td>\n",
       "      <td>4000</td>\n",
       "      <td>325</td>\n",
       "      <td>30.1</td>\n",
       "      <td>4.0</td>\n",
       "    </tr>\n",
       "    <tr>\n",
       "      <th>...</th>\n",
       "      <td>...</td>\n",
       "      <td>...</td>\n",
       "      <td>...</td>\n",
       "      <td>...</td>\n",
       "      <td>...</td>\n",
       "      <td>...</td>\n",
       "      <td>...</td>\n",
       "    </tr>\n",
       "    <tr>\n",
       "      <th>13114</th>\n",
       "      <td>2020</td>\n",
       "      <td>35999</td>\n",
       "      <td>Automatic</td>\n",
       "      <td>500</td>\n",
       "      <td>145</td>\n",
       "      <td>55.4</td>\n",
       "      <td>2.0</td>\n",
       "    </tr>\n",
       "    <tr>\n",
       "      <th>13115</th>\n",
       "      <td>2020</td>\n",
       "      <td>24699</td>\n",
       "      <td>Automatic</td>\n",
       "      <td>2500</td>\n",
       "      <td>145</td>\n",
       "      <td>55.4</td>\n",
       "      <td>2.0</td>\n",
       "    </tr>\n",
       "    <tr>\n",
       "      <th>13116</th>\n",
       "      <td>2019</td>\n",
       "      <td>30999</td>\n",
       "      <td>Automatic</td>\n",
       "      <td>11612</td>\n",
       "      <td>145</td>\n",
       "      <td>41.5</td>\n",
       "      <td>2.1</td>\n",
       "    </tr>\n",
       "    <tr>\n",
       "      <th>13117</th>\n",
       "      <td>2019</td>\n",
       "      <td>37990</td>\n",
       "      <td>Automatic</td>\n",
       "      <td>2426</td>\n",
       "      <td>145</td>\n",
       "      <td>45.6</td>\n",
       "      <td>2.0</td>\n",
       "    </tr>\n",
       "    <tr>\n",
       "      <th>13118</th>\n",
       "      <td>2019</td>\n",
       "      <td>54999</td>\n",
       "      <td>Automatic</td>\n",
       "      <td>2075</td>\n",
       "      <td>145</td>\n",
       "      <td>52.3</td>\n",
       "      <td>2.9</td>\n",
       "    </tr>\n",
       "  </tbody>\n",
       "</table>\n",
       "<p>13119 rows × 7 columns</p>\n",
       "</div>"
      ],
      "text/plain": [
       "       year  price transmission  mileage  tax   mpg  engineSize\n",
       "0      2005   5200    Automatic    63000  325  32.1         1.8\n",
       "1      2017  34948    Automatic    27000   20  61.4         2.1\n",
       "2      2016  49948    Automatic     6200  555  28.0         5.5\n",
       "3      2016  61948    Automatic    16000  325  30.4         4.0\n",
       "4      2016  73948    Automatic     4000  325  30.1         4.0\n",
       "...     ...    ...          ...      ...  ...   ...         ...\n",
       "13114  2020  35999    Automatic      500  145  55.4         2.0\n",
       "13115  2020  24699    Automatic     2500  145  55.4         2.0\n",
       "13116  2019  30999    Automatic    11612  145  41.5         2.1\n",
       "13117  2019  37990    Automatic     2426  145  45.6         2.0\n",
       "13118  2019  54999    Automatic     2075  145  52.3         2.9\n",
       "\n",
       "[13119 rows x 7 columns]"
      ]
     },
     "execution_count": 83,
     "metadata": {},
     "output_type": "execute_result"
    }
   ],
   "source": [
    "dataFrame"
   ]
  },
  {
   "cell_type": "code",
   "execution_count": 84,
   "metadata": {},
   "outputs": [
    {
     "data": {
      "text/html": [
       "<div>\n",
       "<style scoped>\n",
       "    .dataframe tbody tr th:only-of-type {\n",
       "        vertical-align: middle;\n",
       "    }\n",
       "\n",
       "    .dataframe tbody tr th {\n",
       "        vertical-align: top;\n",
       "    }\n",
       "\n",
       "    .dataframe thead th {\n",
       "        text-align: right;\n",
       "    }\n",
       "</style>\n",
       "<table border=\"1\" class=\"dataframe\">\n",
       "  <thead>\n",
       "    <tr style=\"text-align: right;\">\n",
       "      <th></th>\n",
       "      <th>year</th>\n",
       "      <th>price</th>\n",
       "      <th>mileage</th>\n",
       "      <th>tax</th>\n",
       "      <th>mpg</th>\n",
       "      <th>engineSize</th>\n",
       "    </tr>\n",
       "  </thead>\n",
       "  <tbody>\n",
       "    <tr>\n",
       "      <th>count</th>\n",
       "      <td>13119.000000</td>\n",
       "      <td>13119.000000</td>\n",
       "      <td>13119.000000</td>\n",
       "      <td>13119.000000</td>\n",
       "      <td>13119.000000</td>\n",
       "      <td>13119.000000</td>\n",
       "    </tr>\n",
       "    <tr>\n",
       "      <th>mean</th>\n",
       "      <td>2017.296288</td>\n",
       "      <td>24698.596920</td>\n",
       "      <td>21949.559037</td>\n",
       "      <td>129.972178</td>\n",
       "      <td>55.155843</td>\n",
       "      <td>2.071530</td>\n",
       "    </tr>\n",
       "    <tr>\n",
       "      <th>std</th>\n",
       "      <td>2.224709</td>\n",
       "      <td>11842.675542</td>\n",
       "      <td>21176.512267</td>\n",
       "      <td>65.260286</td>\n",
       "      <td>15.220082</td>\n",
       "      <td>0.572426</td>\n",
       "    </tr>\n",
       "    <tr>\n",
       "      <th>min</th>\n",
       "      <td>1970.000000</td>\n",
       "      <td>650.000000</td>\n",
       "      <td>1.000000</td>\n",
       "      <td>0.000000</td>\n",
       "      <td>1.100000</td>\n",
       "      <td>0.000000</td>\n",
       "    </tr>\n",
       "    <tr>\n",
       "      <th>25%</th>\n",
       "      <td>2016.000000</td>\n",
       "      <td>17450.000000</td>\n",
       "      <td>6097.500000</td>\n",
       "      <td>125.000000</td>\n",
       "      <td>45.600000</td>\n",
       "      <td>1.800000</td>\n",
       "    </tr>\n",
       "    <tr>\n",
       "      <th>50%</th>\n",
       "      <td>2018.000000</td>\n",
       "      <td>22480.000000</td>\n",
       "      <td>15189.000000</td>\n",
       "      <td>145.000000</td>\n",
       "      <td>56.500000</td>\n",
       "      <td>2.000000</td>\n",
       "    </tr>\n",
       "    <tr>\n",
       "      <th>75%</th>\n",
       "      <td>2019.000000</td>\n",
       "      <td>28980.000000</td>\n",
       "      <td>31779.500000</td>\n",
       "      <td>145.000000</td>\n",
       "      <td>64.200000</td>\n",
       "      <td>2.100000</td>\n",
       "    </tr>\n",
       "    <tr>\n",
       "      <th>max</th>\n",
       "      <td>2020.000000</td>\n",
       "      <td>159999.000000</td>\n",
       "      <td>259000.000000</td>\n",
       "      <td>580.000000</td>\n",
       "      <td>217.300000</td>\n",
       "      <td>6.200000</td>\n",
       "    </tr>\n",
       "  </tbody>\n",
       "</table>\n",
       "</div>"
      ],
      "text/plain": [
       "               year          price        mileage           tax           mpg  \\\n",
       "count  13119.000000   13119.000000   13119.000000  13119.000000  13119.000000   \n",
       "mean    2017.296288   24698.596920   21949.559037    129.972178     55.155843   \n",
       "std        2.224709   11842.675542   21176.512267     65.260286     15.220082   \n",
       "min     1970.000000     650.000000       1.000000      0.000000      1.100000   \n",
       "25%     2016.000000   17450.000000    6097.500000    125.000000     45.600000   \n",
       "50%     2018.000000   22480.000000   15189.000000    145.000000     56.500000   \n",
       "75%     2019.000000   28980.000000   31779.500000    145.000000     64.200000   \n",
       "max     2020.000000  159999.000000  259000.000000    580.000000    217.300000   \n",
       "\n",
       "         engineSize  \n",
       "count  13119.000000  \n",
       "mean       2.071530  \n",
       "std        0.572426  \n",
       "min        0.000000  \n",
       "25%        1.800000  \n",
       "50%        2.000000  \n",
       "75%        2.100000  \n",
       "max        6.200000  "
      ]
     },
     "execution_count": 84,
     "metadata": {},
     "output_type": "execute_result"
    }
   ],
   "source": [
    "dataFrame.describe()"
   ]
  },
  {
   "cell_type": "code",
   "execution_count": 85,
   "metadata": {},
   "outputs": [
    {
     "data": {
      "text/plain": [
       "year            0\n",
       "price           0\n",
       "transmission    0\n",
       "mileage         0\n",
       "tax             0\n",
       "mpg             0\n",
       "engineSize      0\n",
       "dtype: int64"
      ]
     },
     "execution_count": 85,
     "metadata": {},
     "output_type": "execute_result"
    }
   ],
   "source": [
    "dataFrame.isnull().sum()"
   ]
  },
  {
   "cell_type": "code",
   "execution_count": 86,
   "metadata": {},
   "outputs": [
    {
     "data": {
      "text/plain": [
       "<seaborn.axisgrid.FacetGrid at 0x29c7f2950>"
      ]
     },
     "execution_count": 86,
     "metadata": {},
     "output_type": "execute_result"
    },
    {
     "data": {
      "image/png": "[encoded data removed]",
      "text/plain": [
       "<Figure size 500x500 with 1 Axes>"
      ]
     },
     "metadata": {},
     "output_type": "display_data"
    }
   ],
   "source": [
    "sbn.displot(dataFrame[\"price\"]) # dağılıma göre çizim."
   ]
  },
  {
   "cell_type": "code",
   "execution_count": 87,
   "metadata": {},
   "outputs": [
    {
     "data": {
      "text/plain": [
       "<AxesSubplot: xlabel='year', ylabel='count'>"
      ]
     },
     "execution_count": 87,
     "metadata": {},
     "output_type": "execute_result"
    },
    {
     "data": {
      "image/png": "[encoded data removed]",
      "text/plain": [
       "<Figure size 640x480 with 1 Axes>"
      ]
     },
     "metadata": {},
     "output_type": "display_data"
    }
   ],
   "source": [
    "sbn.countplot(x=dataFrame[\"year\"]) # yıllara göre araba sayısı adedine baktık"
   ]
  },
  {
   "cell_type": "code",
   "execution_count": 88,
   "metadata": {},
   "outputs": [
    {
     "name": "stderr",
     "output_type": "stream",
     "text": [
      "/var/folders/rn/2x5ww4n14nb0j2blgsbhswb40000gn/T/ipykernel_3008/1101134712.py:1: FutureWarning: The default value of numeric_only in DataFrame.corr is deprecated. In a future version, it will default to False. Select only valid columns or specify the value of numeric_only to silence this warning.\n",
      "  dataFrame.corr() # veriler arasındaki korelasyonu yorumlamak için\n"
     ]
    },
    {
     "data": {
      "text/html": [
       "<div>\n",
       "<style scoped>\n",
       "    .dataframe tbody tr th:only-of-type {\n",
       "        vertical-align: middle;\n",
       "    }\n",
       "\n",
       "    .dataframe tbody tr th {\n",
       "        vertical-align: top;\n",
       "    }\n",
       "\n",
       "    .dataframe thead th {\n",
       "        text-align: right;\n",
       "    }\n",
       "</style>\n",
       "<table border=\"1\" class=\"dataframe\">\n",
       "  <thead>\n",
       "    <tr style=\"text-align: right;\">\n",
       "      <th></th>\n",
       "      <th>year</th>\n",
       "      <th>price</th>\n",
       "      <th>mileage</th>\n",
       "      <th>tax</th>\n",
       "      <th>mpg</th>\n",
       "      <th>engineSize</th>\n",
       "    </tr>\n",
       "  </thead>\n",
       "  <tbody>\n",
       "    <tr>\n",
       "      <th>year</th>\n",
       "      <td>1.000000</td>\n",
       "      <td>0.520712</td>\n",
       "      <td>-0.738027</td>\n",
       "      <td>0.012480</td>\n",
       "      <td>-0.094626</td>\n",
       "      <td>-0.142147</td>\n",
       "    </tr>\n",
       "    <tr>\n",
       "      <th>price</th>\n",
       "      <td>0.520712</td>\n",
       "      <td>1.000000</td>\n",
       "      <td>-0.537214</td>\n",
       "      <td>0.268717</td>\n",
       "      <td>-0.438445</td>\n",
       "      <td>0.516126</td>\n",
       "    </tr>\n",
       "    <tr>\n",
       "      <th>mileage</th>\n",
       "      <td>-0.738027</td>\n",
       "      <td>-0.537214</td>\n",
       "      <td>1.000000</td>\n",
       "      <td>-0.160223</td>\n",
       "      <td>0.202850</td>\n",
       "      <td>0.063652</td>\n",
       "    </tr>\n",
       "    <tr>\n",
       "      <th>tax</th>\n",
       "      <td>0.012480</td>\n",
       "      <td>0.268717</td>\n",
       "      <td>-0.160223</td>\n",
       "      <td>1.000000</td>\n",
       "      <td>-0.513742</td>\n",
       "      <td>0.338341</td>\n",
       "    </tr>\n",
       "    <tr>\n",
       "      <th>mpg</th>\n",
       "      <td>-0.094626</td>\n",
       "      <td>-0.438445</td>\n",
       "      <td>0.202850</td>\n",
       "      <td>-0.513742</td>\n",
       "      <td>1.000000</td>\n",
       "      <td>-0.339862</td>\n",
       "    </tr>\n",
       "    <tr>\n",
       "      <th>engineSize</th>\n",
       "      <td>-0.142147</td>\n",
       "      <td>0.516126</td>\n",
       "      <td>0.063652</td>\n",
       "      <td>0.338341</td>\n",
       "      <td>-0.339862</td>\n",
       "      <td>1.000000</td>\n",
       "    </tr>\n",
       "  </tbody>\n",
       "</table>\n",
       "</div>"
      ],
      "text/plain": [
       "                year     price   mileage       tax       mpg  engineSize\n",
       "year        1.000000  0.520712 -0.738027  0.012480 -0.094626   -0.142147\n",
       "price       0.520712  1.000000 -0.537214  0.268717 -0.438445    0.516126\n",
       "mileage    -0.738027 -0.537214  1.000000 -0.160223  0.202850    0.063652\n",
       "tax         0.012480  0.268717 -0.160223  1.000000 -0.513742    0.338341\n",
       "mpg        -0.094626 -0.438445  0.202850 -0.513742  1.000000   -0.339862\n",
       "engineSize -0.142147  0.516126  0.063652  0.338341 -0.339862    1.000000"
      ]
     },
     "execution_count": 88,
     "metadata": {},
     "output_type": "execute_result"
    }
   ],
   "source": [
    "dataFrame.corr() # veriler arasındaki korelasyonu yorumlamak için"
   ]
  },
  {
   "cell_type": "code",
   "execution_count": 89,
   "metadata": {},
   "outputs": [
    {
     "name": "stderr",
     "output_type": "stream",
     "text": [
      "/var/folders/rn/2x5ww4n14nb0j2blgsbhswb40000gn/T/ipykernel_3008/3087911996.py:1: FutureWarning: The default value of numeric_only in DataFrame.corr is deprecated. In a future version, it will default to False. Select only valid columns or specify the value of numeric_only to silence this warning.\n",
      "  dataFrame.corr()[\"price\"].sort_values() #Fiyata göre korelasyonlar\n"
     ]
    },
    {
     "data": {
      "text/plain": [
       "mileage      -0.537214\n",
       "mpg          -0.438445\n",
       "tax           0.268717\n",
       "engineSize    0.516126\n",
       "year          0.520712\n",
       "price         1.000000\n",
       "Name: price, dtype: float64"
      ]
     },
     "execution_count": 89,
     "metadata": {},
     "output_type": "execute_result"
    }
   ],
   "source": [
    "dataFrame.corr()[\"price\"].sort_values() #Fiyata göre korelasyonlar"
   ]
  },
  {
   "cell_type": "code",
   "execution_count": 90,
   "metadata": {},
   "outputs": [
    {
     "data": {
      "text/plain": [
       "<AxesSubplot: xlabel='mileage', ylabel='price'>"
      ]
     },
     "execution_count": 90,
     "metadata": {},
     "output_type": "execute_result"
    },
    {
     "data": {
      "image/png": "[encoded data removed]",
      "text/plain": [
       "<Figure size 640x480 with 1 Axes>"
      ]
     },
     "metadata": {},
     "output_type": "display_data"
    }
   ],
   "source": [
    "sbn.scatterplot(x=\"mileage\",y=\"price\",data=dataFrame) # Price ve Mil dağılım tablosu"
   ]
  },
  {
   "cell_type": "code",
   "execution_count": 91,
   "metadata": {},
   "outputs": [
    {
     "data": {
      "text/html": [
       "<div>\n",
       "<style scoped>\n",
       "    .dataframe tbody tr th:only-of-type {\n",
       "        vertical-align: middle;\n",
       "    }\n",
       "\n",
       "    .dataframe tbody tr th {\n",
       "        vertical-align: top;\n",
       "    }\n",
       "\n",
       "    .dataframe thead th {\n",
       "        text-align: right;\n",
       "    }\n",
       "</style>\n",
       "<table border=\"1\" class=\"dataframe\">\n",
       "  <thead>\n",
       "    <tr style=\"text-align: right;\">\n",
       "      <th></th>\n",
       "      <th>year</th>\n",
       "      <th>price</th>\n",
       "      <th>transmission</th>\n",
       "      <th>mileage</th>\n",
       "      <th>tax</th>\n",
       "      <th>mpg</th>\n",
       "      <th>engineSize</th>\n",
       "    </tr>\n",
       "  </thead>\n",
       "  <tbody>\n",
       "    <tr>\n",
       "      <th>6199</th>\n",
       "      <td>2020</td>\n",
       "      <td>159999</td>\n",
       "      <td>Semi-Auto</td>\n",
       "      <td>1350</td>\n",
       "      <td>145</td>\n",
       "      <td>21.4</td>\n",
       "      <td>4.0</td>\n",
       "    </tr>\n",
       "    <tr>\n",
       "      <th>10044</th>\n",
       "      <td>2020</td>\n",
       "      <td>154998</td>\n",
       "      <td>Automatic</td>\n",
       "      <td>3000</td>\n",
       "      <td>150</td>\n",
       "      <td>21.4</td>\n",
       "      <td>4.0</td>\n",
       "    </tr>\n",
       "    <tr>\n",
       "      <th>5</th>\n",
       "      <td>2011</td>\n",
       "      <td>149948</td>\n",
       "      <td>Automatic</td>\n",
       "      <td>3000</td>\n",
       "      <td>570</td>\n",
       "      <td>21.4</td>\n",
       "      <td>6.2</td>\n",
       "    </tr>\n",
       "    <tr>\n",
       "      <th>8737</th>\n",
       "      <td>2019</td>\n",
       "      <td>140319</td>\n",
       "      <td>Semi-Auto</td>\n",
       "      <td>785</td>\n",
       "      <td>150</td>\n",
       "      <td>22.1</td>\n",
       "      <td>4.0</td>\n",
       "    </tr>\n",
       "    <tr>\n",
       "      <th>6386</th>\n",
       "      <td>2018</td>\n",
       "      <td>139995</td>\n",
       "      <td>Semi-Auto</td>\n",
       "      <td>13046</td>\n",
       "      <td>145</td>\n",
       "      <td>21.4</td>\n",
       "      <td>4.0</td>\n",
       "    </tr>\n",
       "    <tr>\n",
       "      <th>8</th>\n",
       "      <td>2019</td>\n",
       "      <td>139948</td>\n",
       "      <td>Automatic</td>\n",
       "      <td>12000</td>\n",
       "      <td>145</td>\n",
       "      <td>21.4</td>\n",
       "      <td>4.0</td>\n",
       "    </tr>\n",
       "    <tr>\n",
       "      <th>9133</th>\n",
       "      <td>2019</td>\n",
       "      <td>139559</td>\n",
       "      <td>Semi-Auto</td>\n",
       "      <td>1000</td>\n",
       "      <td>145</td>\n",
       "      <td>22.1</td>\n",
       "      <td>4.0</td>\n",
       "    </tr>\n",
       "    <tr>\n",
       "      <th>8821</th>\n",
       "      <td>2020</td>\n",
       "      <td>138439</td>\n",
       "      <td>Semi-Auto</td>\n",
       "      <td>1000</td>\n",
       "      <td>145</td>\n",
       "      <td>22.1</td>\n",
       "      <td>4.0</td>\n",
       "    </tr>\n",
       "    <tr>\n",
       "      <th>5902</th>\n",
       "      <td>2018</td>\n",
       "      <td>135771</td>\n",
       "      <td>Semi-Auto</td>\n",
       "      <td>19000</td>\n",
       "      <td>145</td>\n",
       "      <td>21.4</td>\n",
       "      <td>4.0</td>\n",
       "    </tr>\n",
       "    <tr>\n",
       "      <th>7864</th>\n",
       "      <td>2018</td>\n",
       "      <td>135124</td>\n",
       "      <td>Semi-Auto</td>\n",
       "      <td>18234</td>\n",
       "      <td>150</td>\n",
       "      <td>21.4</td>\n",
       "      <td>4.0</td>\n",
       "    </tr>\n",
       "    <tr>\n",
       "      <th>8673</th>\n",
       "      <td>2019</td>\n",
       "      <td>134219</td>\n",
       "      <td>Semi-Auto</td>\n",
       "      <td>1000</td>\n",
       "      <td>145</td>\n",
       "      <td>24.8</td>\n",
       "      <td>4.0</td>\n",
       "    </tr>\n",
       "    <tr>\n",
       "      <th>6210</th>\n",
       "      <td>2019</td>\n",
       "      <td>129990</td>\n",
       "      <td>Automatic</td>\n",
       "      <td>1000</td>\n",
       "      <td>145</td>\n",
       "      <td>24.8</td>\n",
       "      <td>4.0</td>\n",
       "    </tr>\n",
       "    <tr>\n",
       "      <th>4759</th>\n",
       "      <td>2019</td>\n",
       "      <td>126000</td>\n",
       "      <td>Automatic</td>\n",
       "      <td>250</td>\n",
       "      <td>145</td>\n",
       "      <td>24.6</td>\n",
       "      <td>4.0</td>\n",
       "    </tr>\n",
       "    <tr>\n",
       "      <th>2647</th>\n",
       "      <td>2019</td>\n",
       "      <td>125796</td>\n",
       "      <td>Automatic</td>\n",
       "      <td>637</td>\n",
       "      <td>145</td>\n",
       "      <td>24.8</td>\n",
       "      <td>4.0</td>\n",
       "    </tr>\n",
       "    <tr>\n",
       "      <th>6223</th>\n",
       "      <td>2019</td>\n",
       "      <td>124999</td>\n",
       "      <td>Automatic</td>\n",
       "      <td>1500</td>\n",
       "      <td>145</td>\n",
       "      <td>31.7</td>\n",
       "      <td>4.0</td>\n",
       "    </tr>\n",
       "    <tr>\n",
       "      <th>4094</th>\n",
       "      <td>2019</td>\n",
       "      <td>124366</td>\n",
       "      <td>Semi-Auto</td>\n",
       "      <td>880</td>\n",
       "      <td>145</td>\n",
       "      <td>24.8</td>\n",
       "      <td>4.0</td>\n",
       "    </tr>\n",
       "    <tr>\n",
       "      <th>2629</th>\n",
       "      <td>2019</td>\n",
       "      <td>123846</td>\n",
       "      <td>Semi-Auto</td>\n",
       "      <td>2951</td>\n",
       "      <td>145</td>\n",
       "      <td>22.1</td>\n",
       "      <td>4.0</td>\n",
       "    </tr>\n",
       "    <tr>\n",
       "      <th>7134</th>\n",
       "      <td>2019</td>\n",
       "      <td>115359</td>\n",
       "      <td>Semi-Auto</td>\n",
       "      <td>1000</td>\n",
       "      <td>145</td>\n",
       "      <td>30.1</td>\n",
       "      <td>4.0</td>\n",
       "    </tr>\n",
       "    <tr>\n",
       "      <th>9159</th>\n",
       "      <td>2019</td>\n",
       "      <td>114199</td>\n",
       "      <td>Semi-Auto</td>\n",
       "      <td>891</td>\n",
       "      <td>145</td>\n",
       "      <td>22.6</td>\n",
       "      <td>4.0</td>\n",
       "    </tr>\n",
       "    <tr>\n",
       "      <th>1980</th>\n",
       "      <td>2019</td>\n",
       "      <td>109995</td>\n",
       "      <td>Semi-Auto</td>\n",
       "      <td>4688</td>\n",
       "      <td>150</td>\n",
       "      <td>31.7</td>\n",
       "      <td>4.0</td>\n",
       "    </tr>\n",
       "  </tbody>\n",
       "</table>\n",
       "</div>"
      ],
      "text/plain": [
       "       year   price transmission  mileage  tax   mpg  engineSize\n",
       "6199   2020  159999    Semi-Auto     1350  145  21.4         4.0\n",
       "10044  2020  154998    Automatic     3000  150  21.4         4.0\n",
       "5      2011  149948    Automatic     3000  570  21.4         6.2\n",
       "8737   2019  140319    Semi-Auto      785  150  22.1         4.0\n",
       "6386   2018  139995    Semi-Auto    13046  145  21.4         4.0\n",
       "8      2019  139948    Automatic    12000  145  21.4         4.0\n",
       "9133   2019  139559    Semi-Auto     1000  145  22.1         4.0\n",
       "8821   2020  138439    Semi-Auto     1000  145  22.1         4.0\n",
       "5902   2018  135771    Semi-Auto    19000  145  21.4         4.0\n",
       "7864   2018  135124    Semi-Auto    18234  150  21.4         4.0\n",
       "8673   2019  134219    Semi-Auto     1000  145  24.8         4.0\n",
       "6210   2019  129990    Automatic     1000  145  24.8         4.0\n",
       "4759   2019  126000    Automatic      250  145  24.6         4.0\n",
       "2647   2019  125796    Automatic      637  145  24.8         4.0\n",
       "6223   2019  124999    Automatic     1500  145  31.7         4.0\n",
       "4094   2019  124366    Semi-Auto      880  145  24.8         4.0\n",
       "2629   2019  123846    Semi-Auto     2951  145  22.1         4.0\n",
       "7134   2019  115359    Semi-Auto     1000  145  30.1         4.0\n",
       "9159   2019  114199    Semi-Auto      891  145  22.6         4.0\n",
       "1980   2019  109995    Semi-Auto     4688  150  31.7         4.0"
      ]
     },
     "execution_count": 91,
     "metadata": {},
     "output_type": "execute_result"
    }
   ],
   "source": [
    "dataFrame.sort_values(\"price\", ascending=False).head(20) # Azalan sırada fiyat bilgilerini aldık başlarda çok uçuk rakamlar var"
   ]
  },
  {
   "cell_type": "code",
   "execution_count": 92,
   "metadata": {},
   "outputs": [
    {
     "data": {
      "text/plain": [
       "131.19"
      ]
     },
     "execution_count": 92,
     "metadata": {},
     "output_type": "execute_result"
    }
   ],
   "source": [
    "len(dataFrame)*0.01 # baştaki çok yüksek verileri atmaya karar verdim %99 veri ile deam edeceğiz"
   ]
  },
  {
   "cell_type": "code",
   "execution_count": 93,
   "metadata": {},
   "outputs": [],
   "source": [
    "asılDF = dataFrame.sort_values(\"price\",ascending=False).iloc[131:] # baştaki 131 veriyi sildik"
   ]
  },
  {
   "cell_type": "code",
   "execution_count": 94,
   "metadata": {},
   "outputs": [
    {
     "data": {
      "text/html": [
       "<div>\n",
       "<style scoped>\n",
       "    .dataframe tbody tr th:only-of-type {\n",
       "        vertical-align: middle;\n",
       "    }\n",
       "\n",
       "    .dataframe tbody tr th {\n",
       "        vertical-align: top;\n",
       "    }\n",
       "\n",
       "    .dataframe thead th {\n",
       "        text-align: right;\n",
       "    }\n",
       "</style>\n",
       "<table border=\"1\" class=\"dataframe\">\n",
       "  <thead>\n",
       "    <tr style=\"text-align: right;\">\n",
       "      <th></th>\n",
       "      <th>year</th>\n",
       "      <th>price</th>\n",
       "      <th>mileage</th>\n",
       "      <th>tax</th>\n",
       "      <th>mpg</th>\n",
       "      <th>engineSize</th>\n",
       "    </tr>\n",
       "  </thead>\n",
       "  <tbody>\n",
       "    <tr>\n",
       "      <th>count</th>\n",
       "      <td>12988.000000</td>\n",
       "      <td>12988.000000</td>\n",
       "      <td>12988.000000</td>\n",
       "      <td>12988.000000</td>\n",
       "      <td>12988.000000</td>\n",
       "      <td>12988.000000</td>\n",
       "    </tr>\n",
       "    <tr>\n",
       "      <th>mean</th>\n",
       "      <td>2017.281876</td>\n",
       "      <td>24074.926933</td>\n",
       "      <td>22132.741146</td>\n",
       "      <td>129.689714</td>\n",
       "      <td>55.437142</td>\n",
       "      <td>2.050901</td>\n",
       "    </tr>\n",
       "    <tr>\n",
       "      <th>std</th>\n",
       "      <td>2.228515</td>\n",
       "      <td>9866.224575</td>\n",
       "      <td>21196.776401</td>\n",
       "      <td>65.183076</td>\n",
       "      <td>15.025999</td>\n",
       "      <td>0.532596</td>\n",
       "    </tr>\n",
       "    <tr>\n",
       "      <th>min</th>\n",
       "      <td>1970.000000</td>\n",
       "      <td>650.000000</td>\n",
       "      <td>1.000000</td>\n",
       "      <td>0.000000</td>\n",
       "      <td>1.100000</td>\n",
       "      <td>0.000000</td>\n",
       "    </tr>\n",
       "    <tr>\n",
       "      <th>25%</th>\n",
       "      <td>2016.000000</td>\n",
       "      <td>17357.500000</td>\n",
       "      <td>6322.000000</td>\n",
       "      <td>125.000000</td>\n",
       "      <td>45.600000</td>\n",
       "      <td>1.675000</td>\n",
       "    </tr>\n",
       "    <tr>\n",
       "      <th>50%</th>\n",
       "      <td>2018.000000</td>\n",
       "      <td>22299.000000</td>\n",
       "      <td>15369.500000</td>\n",
       "      <td>145.000000</td>\n",
       "      <td>56.500000</td>\n",
       "      <td>2.000000</td>\n",
       "    </tr>\n",
       "    <tr>\n",
       "      <th>75%</th>\n",
       "      <td>2019.000000</td>\n",
       "      <td>28706.000000</td>\n",
       "      <td>31982.250000</td>\n",
       "      <td>145.000000</td>\n",
       "      <td>64.200000</td>\n",
       "      <td>2.100000</td>\n",
       "    </tr>\n",
       "    <tr>\n",
       "      <th>max</th>\n",
       "      <td>2020.000000</td>\n",
       "      <td>65990.000000</td>\n",
       "      <td>259000.000000</td>\n",
       "      <td>580.000000</td>\n",
       "      <td>217.300000</td>\n",
       "      <td>6.200000</td>\n",
       "    </tr>\n",
       "  </tbody>\n",
       "</table>\n",
       "</div>"
      ],
      "text/plain": [
       "               year         price        mileage           tax           mpg  \\\n",
       "count  12988.000000  12988.000000   12988.000000  12988.000000  12988.000000   \n",
       "mean    2017.281876  24074.926933   22132.741146    129.689714     55.437142   \n",
       "std        2.228515   9866.224575   21196.776401     65.183076     15.025999   \n",
       "min     1970.000000    650.000000       1.000000      0.000000      1.100000   \n",
       "25%     2016.000000  17357.500000    6322.000000    125.000000     45.600000   \n",
       "50%     2018.000000  22299.000000   15369.500000    145.000000     56.500000   \n",
       "75%     2019.000000  28706.000000   31982.250000    145.000000     64.200000   \n",
       "max     2020.000000  65990.000000  259000.000000    580.000000    217.300000   \n",
       "\n",
       "         engineSize  \n",
       "count  12988.000000  \n",
       "mean       2.050901  \n",
       "std        0.532596  \n",
       "min        0.000000  \n",
       "25%        1.675000  \n",
       "50%        2.000000  \n",
       "75%        2.100000  \n",
       "max        6.200000  "
      ]
     },
     "execution_count": 94,
     "metadata": {},
     "output_type": "execute_result"
    }
   ],
   "source": [
    "asılDF.describe()"
   ]
  },
  {
   "cell_type": "code",
   "execution_count": 95,
   "metadata": {},
   "outputs": [
    {
     "data": {
      "text/plain": [
       "12988"
      ]
     },
     "execution_count": 95,
     "metadata": {},
     "output_type": "execute_result"
    }
   ],
   "source": [
    "len(asılDF)"
   ]
  },
  {
   "cell_type": "code",
   "execution_count": 96,
   "metadata": {},
   "outputs": [
    {
     "data": {
      "text/plain": [
       "<seaborn.axisgrid.FacetGrid at 0x29c7e1810>"
      ]
     },
     "execution_count": 96,
     "metadata": {},
     "output_type": "execute_result"
    },
    {
     "data": {
      "text/plain": [
       "<Figure size 700x500 with 0 Axes>"
      ]
     },
     "metadata": {},
     "output_type": "display_data"
    },
    {
     "data": {
      "image/png": "[encoded data removed]",
      "text/plain": [
       "<Figure size 500x500 with 1 Axes>"
      ]
     },
     "metadata": {},
     "output_type": "display_data"
    }
   ],
   "source": [
    "plt.figure(figsize=(7,5))\n",
    "sbn.displot(asılDF[\"price\"]) # artık normal dağılıma daha yakın"
   ]
  },
  {
   "cell_type": "code",
   "execution_count": 97,
   "metadata": {},
   "outputs": [
    {
     "name": "stderr",
     "output_type": "stream",
     "text": [
      "/var/folders/rn/2x5ww4n14nb0j2blgsbhswb40000gn/T/ipykernel_3008/2368820191.py:1: FutureWarning: The default value of numeric_only in DataFrameGroupBy.mean is deprecated. In a future version, numeric_only will default to False. Either specify numeric_only or select only columns which should be valid for the function.\n",
      "  dataFrame.groupby(\"year\").mean()[\"price\"] # Her yıldaki fiyat ortalaması\n"
     ]
    },
    {
     "data": {
      "text/plain": [
       "year\n",
       "1970    24999.000000\n",
       "1997     9995.000000\n",
       "1998     8605.000000\n",
       "1999     5995.000000\n",
       "2000     5743.333333\n",
       "2001     4957.900000\n",
       "2002     5820.444444\n",
       "2003     4878.000000\n",
       "2004     4727.615385\n",
       "2005     4426.111111\n",
       "2006     4036.875000\n",
       "2007     5136.045455\n",
       "2008     6967.437500\n",
       "2009     6166.764706\n",
       "2010     8308.473684\n",
       "2011    12624.894737\n",
       "2012    10845.140351\n",
       "2013    11939.842466\n",
       "2014    14042.936864\n",
       "2015    16731.780020\n",
       "2016    19307.892948\n",
       "2017    21514.307854\n",
       "2018    25720.162918\n",
       "2019    31290.020865\n",
       "2020    35433.282337\n",
       "Name: price, dtype: float64"
      ]
     },
     "execution_count": 97,
     "metadata": {},
     "output_type": "execute_result"
    }
   ],
   "source": [
    "dataFrame.groupby(\"year\").mean()[\"price\"] # Her yıldaki fiyat ortalaması"
   ]
  },
  {
   "cell_type": "code",
   "execution_count": 98,
   "metadata": {},
   "outputs": [
    {
     "name": "stderr",
     "output_type": "stream",
     "text": [
      "/var/folders/rn/2x5ww4n14nb0j2blgsbhswb40000gn/T/ipykernel_3008/45935990.py:1: FutureWarning: The default value of numeric_only in DataFrameGroupBy.mean is deprecated. In a future version, numeric_only will default to False. Either specify numeric_only or select only columns which should be valid for the function.\n",
      "  asılDF.groupby(\"year\").mean()[\"price\"] # mesela aşağıdaki 1970 olan durum antika gibi bir şey özel durum bunu da çıkartabiliriz\n"
     ]
    },
    {
     "data": {
      "text/plain": [
       "year\n",
       "1970    24999.000000\n",
       "1997     9995.000000\n",
       "1998     8605.000000\n",
       "1999     5995.000000\n",
       "2000     5743.333333\n",
       "2001     4957.900000\n",
       "2002     5820.444444\n",
       "2003     4878.000000\n",
       "2004     4727.615385\n",
       "2005     4426.111111\n",
       "2006     4036.875000\n",
       "2007     5136.045455\n",
       "2008     6967.437500\n",
       "2009     6166.764706\n",
       "2010     8308.473684\n",
       "2011     8913.459459\n",
       "2012    10845.140351\n",
       "2013    11939.842466\n",
       "2014    14042.936864\n",
       "2015    16647.822222\n",
       "2016    19223.558943\n",
       "2017    21356.280421\n",
       "2018    24800.844506\n",
       "2019    30289.524832\n",
       "2020    34234.794872\n",
       "Name: price, dtype: float64"
      ]
     },
     "execution_count": 98,
     "metadata": {},
     "output_type": "execute_result"
    }
   ],
   "source": [
    "asılDF.groupby(\"year\").mean()[\"price\"] # mesela aşağıdaki 1970 olan durum antika gibi bir şey özel durum bunu da çıkartabiliriz"
   ]
  },
  {
   "cell_type": "code",
   "execution_count": 99,
   "metadata": {},
   "outputs": [],
   "source": [
    "dataFrame = dataFrame[dataFrame.year != 1970]"
   ]
  },
  {
   "cell_type": "code",
   "execution_count": 100,
   "metadata": {},
   "outputs": [
    {
     "name": "stderr",
     "output_type": "stream",
     "text": [
      "/var/folders/rn/2x5ww4n14nb0j2blgsbhswb40000gn/T/ipykernel_3008/2092793654.py:1: FutureWarning: The default value of numeric_only in DataFrameGroupBy.mean is deprecated. In a future version, numeric_only will default to False. Either specify numeric_only or select only columns which should be valid for the function.\n",
      "  dataFrame.groupby(\"year\").mean()[\"price\"]\n"
     ]
    },
    {
     "data": {
      "text/plain": [
       "year\n",
       "1997     9995.000000\n",
       "1998     8605.000000\n",
       "1999     5995.000000\n",
       "2000     5743.333333\n",
       "2001     4957.900000\n",
       "2002     5820.444444\n",
       "2003     4878.000000\n",
       "2004     4727.615385\n",
       "2005     4426.111111\n",
       "2006     4036.875000\n",
       "2007     5136.045455\n",
       "2008     6967.437500\n",
       "2009     6166.764706\n",
       "2010     8308.473684\n",
       "2011    12624.894737\n",
       "2012    10845.140351\n",
       "2013    11939.842466\n",
       "2014    14042.936864\n",
       "2015    16731.780020\n",
       "2016    19307.892948\n",
       "2017    21514.307854\n",
       "2018    25720.162918\n",
       "2019    31290.020865\n",
       "2020    35433.282337\n",
       "Name: price, dtype: float64"
      ]
     },
     "execution_count": 100,
     "metadata": {},
     "output_type": "execute_result"
    }
   ],
   "source": [
    "dataFrame.groupby(\"year\").mean()[\"price\"]"
   ]
  },
  {
   "cell_type": "code",
   "execution_count": 101,
   "metadata": {},
   "outputs": [],
   "source": [
    "dataFrame = dataFrame.drop(\"transmission\",axis=1) # aracın otomatik mi manuel mi olduğunu çıkarttık aslında değerler burada matrise de dökülebilirdi"
   ]
  },
  {
   "cell_type": "code",
   "execution_count": 102,
   "metadata": {},
   "outputs": [],
   "source": [
    "y = dataFrame[\"price\"].values\n",
    "x = dataFrame.drop(\"price\",axis=1).values"
   ]
  },
  {
   "cell_type": "code",
   "execution_count": 103,
   "metadata": {},
   "outputs": [
    {
     "data": {
      "text/plain": [
       "array([ 5200, 34948, 49948, ..., 30999, 37990, 54999])"
      ]
     },
     "execution_count": 103,
     "metadata": {},
     "output_type": "execute_result"
    }
   ],
   "source": [
    "y"
   ]
  },
  {
   "cell_type": "code",
   "execution_count": 104,
   "metadata": {},
   "outputs": [
    {
     "data": {
      "text/plain": [
       "array([[2.0050e+03, 6.3000e+04, 3.2500e+02, 3.2100e+01, 1.8000e+00],\n",
       "       [2.0170e+03, 2.7000e+04, 2.0000e+01, 6.1400e+01, 2.1000e+00],\n",
       "       [2.0160e+03, 6.2000e+03, 5.5500e+02, 2.8000e+01, 5.5000e+00],\n",
       "       ...,\n",
       "       [2.0190e+03, 1.1612e+04, 1.4500e+02, 4.1500e+01, 2.1000e+00],\n",
       "       [2.0190e+03, 2.4260e+03, 1.4500e+02, 4.5600e+01, 2.0000e+00],\n",
       "       [2.0190e+03, 2.0750e+03, 1.4500e+02, 5.2300e+01, 2.9000e+00]])"
      ]
     },
     "execution_count": 104,
     "metadata": {},
     "output_type": "execute_result"
    }
   ],
   "source": [
    "x"
   ]
  },
  {
   "attachments": {},
   "cell_type": "markdown",
   "metadata": {},
   "source": [
    "## Model Eğitimi"
   ]
  },
  {
   "cell_type": "code",
   "execution_count": 105,
   "metadata": {},
   "outputs": [],
   "source": [
    "from sklearn.model_selection import train_test_split"
   ]
  },
  {
   "cell_type": "code",
   "execution_count": 106,
   "metadata": {},
   "outputs": [],
   "source": [
    "x_train,x_test,y_train,y_test = train_test_split(x,y,test_size=0.3,random_state=10)"
   ]
  },
  {
   "cell_type": "code",
   "execution_count": 107,
   "metadata": {},
   "outputs": [
    {
     "data": {
      "text/plain": [
       "9182"
      ]
     },
     "execution_count": 107,
     "metadata": {},
     "output_type": "execute_result"
    }
   ],
   "source": [
    "len(x_train)"
   ]
  },
  {
   "cell_type": "code",
   "execution_count": 108,
   "metadata": {},
   "outputs": [
    {
     "data": {
      "text/plain": [
       "3936"
      ]
     },
     "execution_count": 108,
     "metadata": {},
     "output_type": "execute_result"
    }
   ],
   "source": [
    "len(x_test)"
   ]
  },
  {
   "cell_type": "code",
   "execution_count": 109,
   "metadata": {},
   "outputs": [],
   "source": [
    "from sklearn.preprocessing import MinMaxScaler"
   ]
  },
  {
   "cell_type": "code",
   "execution_count": 110,
   "metadata": {},
   "outputs": [],
   "source": [
    "scaler = MinMaxScaler()\n"
   ]
  },
  {
   "cell_type": "code",
   "execution_count": 111,
   "metadata": {},
   "outputs": [],
   "source": [
    "x_train = scaler.fit_transform(x_train)"
   ]
  },
  {
   "cell_type": "code",
   "execution_count": 112,
   "metadata": {},
   "outputs": [],
   "source": [
    "x_test = scaler.fit_transform(x_test)"
   ]
  },
  {
   "cell_type": "code",
   "execution_count": 113,
   "metadata": {},
   "outputs": [],
   "source": [
    "from tensorflow.keras.models import Sequential\n",
    "from tensorflow.keras.layers import Dense"
   ]
  },
  {
   "cell_type": "code",
   "execution_count": 114,
   "metadata": {},
   "outputs": [
    {
     "data": {
      "text/plain": [
       "(9182, 5)"
      ]
     },
     "execution_count": 114,
     "metadata": {},
     "output_type": "execute_result"
    }
   ],
   "source": [
    "x_train.shape # yani 9182 veri ve 5 özelllik var"
   ]
  },
  {
   "cell_type": "code",
   "execution_count": 115,
   "metadata": {},
   "outputs": [],
   "source": [
    "model = Sequential()\n",
    "\n",
    "model.add(Dense(12,activation = \"relu\"))\n",
    "model.add(Dense(12,activation = \"relu\"))\n",
    "model.add(Dense(12,activation = \"relu\"))\n",
    "model.add(Dense(12,activation = \"relu\"))\n",
    "\n",
    "model.add(Dense(1)) # çıktı katmanı"
   ]
  },
  {
   "cell_type": "code",
   "execution_count": 116,
   "metadata": {},
   "outputs": [],
   "source": [
    "model.compile(optimizer='adam',  \n",
    "              loss='mean_squared_error')  "
   ]
  },
  {
   "cell_type": "code",
   "execution_count": 117,
   "metadata": {},
   "outputs": [
    {
     "name": "stdout",
     "output_type": "stream",
     "text": [
      "Epoch 1/300\n",
      "37/37 [==============================] - 0s 3ms/step - loss: 741591168.0000 - val_loss: 770439040.0000\n",
      "Epoch 2/300\n",
      "37/37 [==============================] - 0s 1ms/step - loss: 741549504.0000 - val_loss: 770372736.0000\n",
      "Epoch 3/300\n",
      "37/37 [==============================] - 0s 1ms/step - loss: 741438336.0000 - val_loss: 770189824.0000\n",
      "Epoch 4/300\n",
      "37/37 [==============================] - 0s 1ms/step - loss: 741121728.0000 - val_loss: 769671488.0000\n",
      "Epoch 5/300\n",
      "37/37 [==============================] - 0s 1ms/step - loss: 740275328.0000 - val_loss: 768355776.0000\n",
      "Epoch 6/300\n",
      "37/37 [==============================] - 0s 2ms/step - loss: 738289728.0000 - val_loss: 765462656.0000\n",
      "Epoch 7/300\n",
      "37/37 [==============================] - 0s 2ms/step - loss: 734191424.0000 - val_loss: 759753344.0000\n",
      "Epoch 8/300\n",
      "37/37 [==============================] - 0s 2ms/step - loss: 726527744.0000 - val_loss: 749533824.0000\n",
      "Epoch 9/300\n",
      "37/37 [==============================] - 0s 2ms/step - loss: 713330880.0000 - val_loss: 732597504.0000\n",
      "Epoch 10/300\n",
      "37/37 [==============================] - 0s 3ms/step - loss: 692113920.0000 - val_loss: 705788288.0000\n",
      "Epoch 11/300\n",
      "37/37 [==============================] - 0s 5ms/step - loss: 659523072.0000 - val_loss: 665981888.0000\n",
      "Epoch 12/300\n",
      "37/37 [==============================] - 0s 3ms/step - loss: 612562944.0000 - val_loss: 610232320.0000\n",
      "Epoch 13/300\n",
      "37/37 [==============================] - 0s 3ms/step - loss: 549315328.0000 - val_loss: 537946304.0000\n",
      "Epoch 14/300\n",
      "37/37 [==============================] - 0s 3ms/step - loss: 470945024.0000 - val_loss: 452213696.0000\n",
      "Epoch 15/300\n",
      "37/37 [==============================] - 0s 4ms/step - loss: 382593504.0000 - val_loss: 360638240.0000\n",
      "Epoch 16/300\n",
      "37/37 [==============================] - 0s 3ms/step - loss: 294405696.0000 - val_loss: 275523040.0000\n",
      "Epoch 17/300\n",
      "37/37 [==============================] - 0s 2ms/step - loss: 219365760.0000 - val_loss: 209209120.0000\n",
      "Epoch 18/300\n",
      "37/37 [==============================] - 0s 2ms/step - loss: 167243952.0000 - val_loss: 168631856.0000\n",
      "Epoch 19/300\n",
      "37/37 [==============================] - 0s 1ms/step - loss: 139454192.0000 - val_loss: 149695408.0000\n",
      "Epoch 20/300\n",
      "37/37 [==============================] - 0s 2ms/step - loss: 128204648.0000 - val_loss: 142976944.0000\n",
      "Epoch 21/300\n",
      "37/37 [==============================] - 0s 2ms/step - loss: 124663104.0000 - val_loss: 140392032.0000\n",
      "Epoch 22/300\n",
      "37/37 [==============================] - 0s 2ms/step - loss: 123300152.0000 - val_loss: 139283632.0000\n",
      "Epoch 23/300\n",
      "37/37 [==============================] - 0s 2ms/step - loss: 122499360.0000 - val_loss: 138475008.0000\n",
      "Epoch 24/300\n",
      "37/37 [==============================] - 0s 3ms/step - loss: 121815792.0000 - val_loss: 137765696.0000\n",
      "Epoch 25/300\n",
      "37/37 [==============================] - 0s 2ms/step - loss: 121170608.0000 - val_loss: 137130688.0000\n",
      "Epoch 26/300\n",
      "37/37 [==============================] - 0s 2ms/step - loss: 120554224.0000 - val_loss: 136497344.0000\n",
      "Epoch 27/300\n",
      "37/37 [==============================] - 0s 2ms/step - loss: 119949464.0000 - val_loss: 135903776.0000\n",
      "Epoch 28/300\n",
      "37/37 [==============================] - 0s 2ms/step - loss: 119365264.0000 - val_loss: 135311232.0000\n",
      "Epoch 29/300\n",
      "37/37 [==============================] - 0s 1ms/step - loss: 118786352.0000 - val_loss: 134756640.0000\n",
      "Epoch 30/300\n",
      "37/37 [==============================] - 0s 1ms/step - loss: 118223992.0000 - val_loss: 134187456.0000\n",
      "Epoch 31/300\n",
      "37/37 [==============================] - 0s 1ms/step - loss: 117679720.0000 - val_loss: 133581704.0000\n",
      "Epoch 32/300\n",
      "37/37 [==============================] - 0s 1ms/step - loss: 117110744.0000 - val_loss: 133028024.0000\n",
      "Epoch 33/300\n",
      "37/37 [==============================] - 0s 1ms/step - loss: 116557064.0000 - val_loss: 132489032.0000\n",
      "Epoch 34/300\n",
      "37/37 [==============================] - 0s 1ms/step - loss: 116009464.0000 - val_loss: 131935312.0000\n",
      "Epoch 35/300\n",
      "37/37 [==============================] - 0s 1ms/step - loss: 115475576.0000 - val_loss: 131371992.0000\n",
      "Epoch 36/300\n",
      "37/37 [==============================] - 0s 1ms/step - loss: 114929168.0000 - val_loss: 130826984.0000\n",
      "Epoch 37/300\n",
      "37/37 [==============================] - 0s 1ms/step - loss: 114389808.0000 - val_loss: 130268736.0000\n",
      "Epoch 38/300\n",
      "37/37 [==============================] - 0s 1ms/step - loss: 113851528.0000 - val_loss: 129717424.0000\n",
      "Epoch 39/300\n",
      "37/37 [==============================] - 0s 1ms/step - loss: 113318640.0000 - val_loss: 129157944.0000\n",
      "Epoch 40/300\n",
      "37/37 [==============================] - 0s 1ms/step - loss: 112781488.0000 - val_loss: 128599736.0000\n",
      "Epoch 41/300\n",
      "37/37 [==============================] - 0s 1ms/step - loss: 112246264.0000 - val_loss: 128053648.0000\n",
      "Epoch 42/300\n",
      "37/37 [==============================] - 0s 1ms/step - loss: 111697864.0000 - val_loss: 127530568.0000\n",
      "Epoch 43/300\n",
      "37/37 [==============================] - 0s 1ms/step - loss: 111173376.0000 - val_loss: 126942352.0000\n",
      "Epoch 44/300\n",
      "37/37 [==============================] - 0s 1ms/step - loss: 110621240.0000 - val_loss: 126415640.0000\n",
      "Epoch 45/300\n",
      "37/37 [==============================] - 0s 1ms/step - loss: 110080056.0000 - val_loss: 125850632.0000\n",
      "Epoch 46/300\n",
      "37/37 [==============================] - 0s 1ms/step - loss: 109548824.0000 - val_loss: 125249816.0000\n",
      "Epoch 47/300\n",
      "37/37 [==============================] - 0s 1ms/step - loss: 109001064.0000 - val_loss: 124698256.0000\n",
      "Epoch 48/300\n",
      "37/37 [==============================] - 0s 1ms/step - loss: 108440928.0000 - val_loss: 124172544.0000\n",
      "Epoch 49/300\n",
      "37/37 [==============================] - 0s 1ms/step - loss: 107896944.0000 - val_loss: 123590312.0000\n",
      "Epoch 50/300\n",
      "37/37 [==============================] - 0s 1ms/step - loss: 107351664.0000 - val_loss: 122986024.0000\n",
      "Epoch 51/300\n",
      "37/37 [==============================] - 0s 1ms/step - loss: 106790112.0000 - val_loss: 122425056.0000\n",
      "Epoch 52/300\n",
      "37/37 [==============================] - 0s 1ms/step - loss: 106236344.0000 - val_loss: 121851160.0000\n",
      "Epoch 53/300\n",
      "37/37 [==============================] - 0s 1ms/step - loss: 105662824.0000 - val_loss: 121249288.0000\n",
      "Epoch 54/300\n",
      "37/37 [==============================] - 0s 1ms/step - loss: 105101656.0000 - val_loss: 120642640.0000\n",
      "Epoch 55/300\n",
      "37/37 [==============================] - 0s 1ms/step - loss: 104526976.0000 - val_loss: 120031448.0000\n",
      "Epoch 56/300\n",
      "37/37 [==============================] - 0s 1ms/step - loss: 103956768.0000 - val_loss: 119447832.0000\n",
      "Epoch 57/300\n",
      "37/37 [==============================] - 0s 1ms/step - loss: 103364160.0000 - val_loss: 118863200.0000\n",
      "Epoch 58/300\n",
      "37/37 [==============================] - 0s 1ms/step - loss: 102778624.0000 - val_loss: 118259048.0000\n",
      "Epoch 59/300\n",
      "37/37 [==============================] - 0s 1ms/step - loss: 102188136.0000 - val_loss: 117617696.0000\n",
      "Epoch 60/300\n",
      "37/37 [==============================] - 0s 1ms/step - loss: 101585200.0000 - val_loss: 116970672.0000\n",
      "Epoch 61/300\n",
      "37/37 [==============================] - 0s 1ms/step - loss: 100987112.0000 - val_loss: 116368064.0000\n",
      "Epoch 62/300\n",
      "37/37 [==============================] - 0s 1ms/step - loss: 100382112.0000 - val_loss: 115719616.0000\n",
      "Epoch 63/300\n",
      "37/37 [==============================] - 0s 1ms/step - loss: 99745728.0000 - val_loss: 115078560.0000\n",
      "Epoch 64/300\n",
      "37/37 [==============================] - 0s 1ms/step - loss: 99131328.0000 - val_loss: 114411800.0000\n",
      "Epoch 65/300\n",
      "37/37 [==============================] - 0s 1ms/step - loss: 98488280.0000 - val_loss: 113725048.0000\n",
      "Epoch 66/300\n",
      "37/37 [==============================] - 0s 1ms/step - loss: 97849784.0000 - val_loss: 113049192.0000\n",
      "Epoch 67/300\n",
      "37/37 [==============================] - 0s 1ms/step - loss: 97202888.0000 - val_loss: 112381056.0000\n",
      "Epoch 68/300\n",
      "37/37 [==============================] - 0s 1ms/step - loss: 96558968.0000 - val_loss: 111623464.0000\n",
      "Epoch 69/300\n",
      "37/37 [==============================] - 0s 1ms/step - loss: 95880880.0000 - val_loss: 110934712.0000\n",
      "Epoch 70/300\n",
      "37/37 [==============================] - 0s 1ms/step - loss: 95204896.0000 - val_loss: 110268648.0000\n",
      "Epoch 71/300\n",
      "37/37 [==============================] - 0s 1ms/step - loss: 94533200.0000 - val_loss: 109498592.0000\n",
      "Epoch 72/300\n",
      "37/37 [==============================] - 0s 1ms/step - loss: 93807792.0000 - val_loss: 108811744.0000\n",
      "Epoch 73/300\n",
      "37/37 [==============================] - 0s 1ms/step - loss: 93090344.0000 - val_loss: 107974896.0000\n",
      "Epoch 74/300\n",
      "37/37 [==============================] - 0s 1ms/step - loss: 92356272.0000 - val_loss: 107250448.0000\n",
      "Epoch 75/300\n",
      "37/37 [==============================] - 0s 1ms/step - loss: 91621344.0000 - val_loss: 106415656.0000\n",
      "Epoch 76/300\n",
      "37/37 [==============================] - 0s 1ms/step - loss: 90889400.0000 - val_loss: 105620040.0000\n",
      "Epoch 77/300\n",
      "37/37 [==============================] - 0s 1ms/step - loss: 90110712.0000 - val_loss: 104801784.0000\n",
      "Epoch 78/300\n",
      "37/37 [==============================] - 0s 1ms/step - loss: 89336024.0000 - val_loss: 103969040.0000\n",
      "Epoch 79/300\n",
      "37/37 [==============================] - 0s 1ms/step - loss: 88545064.0000 - val_loss: 103145936.0000\n",
      "Epoch 80/300\n",
      "37/37 [==============================] - 0s 1ms/step - loss: 87756080.0000 - val_loss: 102256424.0000\n",
      "Epoch 81/300\n",
      "37/37 [==============================] - 0s 1ms/step - loss: 86914800.0000 - val_loss: 101399600.0000\n",
      "Epoch 82/300\n",
      "37/37 [==============================] - 0s 1ms/step - loss: 86079504.0000 - val_loss: 100455760.0000\n",
      "Epoch 83/300\n",
      "37/37 [==============================] - 0s 1ms/step - loss: 85228056.0000 - val_loss: 99539216.0000\n",
      "Epoch 84/300\n",
      "37/37 [==============================] - 0s 1ms/step - loss: 84365408.0000 - val_loss: 98583640.0000\n",
      "Epoch 85/300\n",
      "37/37 [==============================] - 0s 1ms/step - loss: 83487904.0000 - val_loss: 97617704.0000\n",
      "Epoch 86/300\n",
      "37/37 [==============================] - 0s 1ms/step - loss: 82579520.0000 - val_loss: 96647056.0000\n",
      "Epoch 87/300\n",
      "37/37 [==============================] - 0s 1ms/step - loss: 81678744.0000 - val_loss: 95633536.0000\n",
      "Epoch 88/300\n",
      "37/37 [==============================] - 0s 1ms/step - loss: 80734128.0000 - val_loss: 94637008.0000\n",
      "Epoch 89/300\n",
      "37/37 [==============================] - 0s 1ms/step - loss: 79792296.0000 - val_loss: 93587744.0000\n",
      "Epoch 90/300\n",
      "37/37 [==============================] - 0s 1ms/step - loss: 78840160.0000 - val_loss: 92560440.0000\n",
      "Epoch 91/300\n",
      "37/37 [==============================] - 0s 1ms/step - loss: 77849376.0000 - val_loss: 91446720.0000\n",
      "Epoch 92/300\n",
      "37/37 [==============================] - 0s 1ms/step - loss: 76864080.0000 - val_loss: 90378808.0000\n",
      "Epoch 93/300\n",
      "37/37 [==============================] - 0s 1ms/step - loss: 75868392.0000 - val_loss: 89263960.0000\n",
      "Epoch 94/300\n",
      "37/37 [==============================] - 0s 1ms/step - loss: 74848216.0000 - val_loss: 88133088.0000\n",
      "Epoch 95/300\n",
      "37/37 [==============================] - 0s 1ms/step - loss: 73833448.0000 - val_loss: 86939872.0000\n",
      "Epoch 96/300\n",
      "37/37 [==============================] - 0s 1ms/step - loss: 72753632.0000 - val_loss: 85770696.0000\n",
      "Epoch 97/300\n",
      "37/37 [==============================] - 0s 1ms/step - loss: 71678944.0000 - val_loss: 84603920.0000\n",
      "Epoch 98/300\n",
      "37/37 [==============================] - 0s 1ms/step - loss: 70610400.0000 - val_loss: 83379640.0000\n",
      "Epoch 99/300\n",
      "37/37 [==============================] - 0s 1ms/step - loss: 69525888.0000 - val_loss: 82180376.0000\n",
      "Epoch 100/300\n",
      "37/37 [==============================] - 0s 1ms/step - loss: 68414176.0000 - val_loss: 80943976.0000\n",
      "Epoch 101/300\n",
      "37/37 [==============================] - 0s 1ms/step - loss: 67293656.0000 - val_loss: 79628512.0000\n",
      "Epoch 102/300\n",
      "37/37 [==============================] - 0s 1ms/step - loss: 66164452.0000 - val_loss: 78369992.0000\n",
      "Epoch 103/300\n",
      "37/37 [==============================] - 0s 1ms/step - loss: 65061544.0000 - val_loss: 77182600.0000\n",
      "Epoch 104/300\n",
      "37/37 [==============================] - 0s 1ms/step - loss: 63967832.0000 - val_loss: 75816480.0000\n",
      "Epoch 105/300\n",
      "37/37 [==============================] - 0s 1ms/step - loss: 62783316.0000 - val_loss: 74542400.0000\n",
      "Epoch 106/300\n",
      "37/37 [==============================] - 0s 1ms/step - loss: 61724748.0000 - val_loss: 73234384.0000\n",
      "Epoch 107/300\n",
      "37/37 [==============================] - 0s 1ms/step - loss: 60555448.0000 - val_loss: 71976672.0000\n",
      "Epoch 108/300\n",
      "37/37 [==============================] - 0s 1ms/step - loss: 59451852.0000 - val_loss: 70734840.0000\n",
      "Epoch 109/300\n",
      "37/37 [==============================] - 0s 1ms/step - loss: 58372596.0000 - val_loss: 69442712.0000\n",
      "Epoch 110/300\n",
      "37/37 [==============================] - 0s 1ms/step - loss: 57274280.0000 - val_loss: 68221832.0000\n",
      "Epoch 111/300\n",
      "37/37 [==============================] - 0s 1ms/step - loss: 56227088.0000 - val_loss: 66982928.0000\n",
      "Epoch 112/300\n",
      "37/37 [==============================] - 0s 1ms/step - loss: 55211452.0000 - val_loss: 65820288.0000\n",
      "Epoch 113/300\n",
      "37/37 [==============================] - 0s 1ms/step - loss: 54198996.0000 - val_loss: 64588084.0000\n",
      "Epoch 114/300\n",
      "37/37 [==============================] - 0s 1ms/step - loss: 53237920.0000 - val_loss: 63441092.0000\n",
      "Epoch 115/300\n",
      "37/37 [==============================] - 0s 1ms/step - loss: 52297416.0000 - val_loss: 62348280.0000\n",
      "Epoch 116/300\n",
      "37/37 [==============================] - 0s 1ms/step - loss: 51399496.0000 - val_loss: 61265380.0000\n",
      "Epoch 117/300\n",
      "37/37 [==============================] - 0s 1ms/step - loss: 50524856.0000 - val_loss: 60257464.0000\n",
      "Epoch 118/300\n",
      "37/37 [==============================] - 0s 1ms/step - loss: 49686688.0000 - val_loss: 59194160.0000\n",
      "Epoch 119/300\n",
      "37/37 [==============================] - 0s 1ms/step - loss: 48861464.0000 - val_loss: 58222832.0000\n",
      "Epoch 120/300\n",
      "37/37 [==============================] - 0s 1ms/step - loss: 48137364.0000 - val_loss: 57278604.0000\n",
      "Epoch 121/300\n",
      "37/37 [==============================] - 0s 1ms/step - loss: 47344572.0000 - val_loss: 56348796.0000\n",
      "Epoch 122/300\n",
      "37/37 [==============================] - 0s 1ms/step - loss: 46628748.0000 - val_loss: 55552484.0000\n",
      "Epoch 123/300\n",
      "37/37 [==============================] - 0s 1ms/step - loss: 45937028.0000 - val_loss: 54714816.0000\n",
      "Epoch 124/300\n",
      "37/37 [==============================] - 0s 1ms/step - loss: 45300484.0000 - val_loss: 53934144.0000\n",
      "Epoch 125/300\n",
      "37/37 [==============================] - 0s 1ms/step - loss: 44700384.0000 - val_loss: 53182676.0000\n",
      "Epoch 126/300\n",
      "37/37 [==============================] - 0s 1ms/step - loss: 44084920.0000 - val_loss: 52434968.0000\n",
      "Epoch 127/300\n",
      "37/37 [==============================] - 0s 1ms/step - loss: 43518364.0000 - val_loss: 51749620.0000\n",
      "Epoch 128/300\n",
      "37/37 [==============================] - 0s 1ms/step - loss: 42952484.0000 - val_loss: 51020064.0000\n",
      "Epoch 129/300\n",
      "37/37 [==============================] - 0s 1ms/step - loss: 42383836.0000 - val_loss: 50360620.0000\n",
      "Epoch 130/300\n",
      "37/37 [==============================] - 0s 1ms/step - loss: 41869488.0000 - val_loss: 49703264.0000\n",
      "Epoch 131/300\n",
      "37/37 [==============================] - 0s 1ms/step - loss: 41374576.0000 - val_loss: 49103564.0000\n",
      "Epoch 132/300\n",
      "37/37 [==============================] - 0s 1ms/step - loss: 40863236.0000 - val_loss: 48540880.0000\n",
      "Epoch 133/300\n",
      "37/37 [==============================] - 0s 1ms/step - loss: 40435092.0000 - val_loss: 47951248.0000\n",
      "Epoch 134/300\n",
      "37/37 [==============================] - 0s 1ms/step - loss: 39946780.0000 - val_loss: 47404396.0000\n",
      "Epoch 135/300\n",
      "37/37 [==============================] - 0s 1ms/step - loss: 39537108.0000 - val_loss: 46895868.0000\n",
      "Epoch 136/300\n",
      "37/37 [==============================] - 0s 1ms/step - loss: 39139564.0000 - val_loss: 46470848.0000\n",
      "Epoch 137/300\n",
      "37/37 [==============================] - 0s 1ms/step - loss: 38741124.0000 - val_loss: 46030432.0000\n",
      "Epoch 138/300\n",
      "37/37 [==============================] - 0s 1ms/step - loss: 38411412.0000 - val_loss: 45549888.0000\n",
      "Epoch 139/300\n",
      "37/37 [==============================] - 0s 1ms/step - loss: 38073920.0000 - val_loss: 45137968.0000\n",
      "Epoch 140/300\n",
      "37/37 [==============================] - 0s 1ms/step - loss: 37723840.0000 - val_loss: 44725880.0000\n",
      "Epoch 141/300\n",
      "37/37 [==============================] - 0s 1ms/step - loss: 37423964.0000 - val_loss: 44334668.0000\n",
      "Epoch 142/300\n",
      "37/37 [==============================] - 0s 1ms/step - loss: 37143056.0000 - val_loss: 43994304.0000\n",
      "Epoch 143/300\n",
      "37/37 [==============================] - 0s 1ms/step - loss: 36823428.0000 - val_loss: 43619452.0000\n",
      "Epoch 144/300\n",
      "37/37 [==============================] - 0s 1ms/step - loss: 36554020.0000 - val_loss: 43265860.0000\n",
      "Epoch 145/300\n",
      "37/37 [==============================] - 0s 1ms/step - loss: 36277888.0000 - val_loss: 42914064.0000\n",
      "Epoch 146/300\n",
      "37/37 [==============================] - 0s 1ms/step - loss: 35995280.0000 - val_loss: 42607356.0000\n",
      "Epoch 147/300\n",
      "37/37 [==============================] - 0s 1ms/step - loss: 35796372.0000 - val_loss: 42332936.0000\n",
      "Epoch 148/300\n",
      "37/37 [==============================] - 0s 1ms/step - loss: 35533132.0000 - val_loss: 42028792.0000\n",
      "Epoch 149/300\n",
      "37/37 [==============================] - 0s 1ms/step - loss: 35317324.0000 - val_loss: 41796672.0000\n",
      "Epoch 150/300\n",
      "37/37 [==============================] - 0s 1ms/step - loss: 35105696.0000 - val_loss: 41503088.0000\n",
      "Epoch 151/300\n",
      "37/37 [==============================] - 0s 1ms/step - loss: 34900748.0000 - val_loss: 41300352.0000\n",
      "Epoch 152/300\n",
      "37/37 [==============================] - 0s 1ms/step - loss: 34698556.0000 - val_loss: 41063580.0000\n",
      "Epoch 153/300\n",
      "37/37 [==============================] - 0s 1ms/step - loss: 34527396.0000 - val_loss: 40808992.0000\n",
      "Epoch 154/300\n",
      "37/37 [==============================] - 0s 1ms/step - loss: 34349600.0000 - val_loss: 40609168.0000\n",
      "Epoch 155/300\n",
      "37/37 [==============================] - 0s 1ms/step - loss: 34198356.0000 - val_loss: 40446228.0000\n",
      "Epoch 156/300\n",
      "37/37 [==============================] - 0s 1ms/step - loss: 34080508.0000 - val_loss: 40260628.0000\n",
      "Epoch 157/300\n",
      "37/37 [==============================] - 0s 1ms/step - loss: 33862700.0000 - val_loss: 40029860.0000\n",
      "Epoch 158/300\n",
      "37/37 [==============================] - 0s 1ms/step - loss: 33742888.0000 - val_loss: 39858384.0000\n",
      "Epoch 159/300\n",
      "37/37 [==============================] - 0s 1ms/step - loss: 33620752.0000 - val_loss: 39724620.0000\n",
      "Epoch 160/300\n",
      "37/37 [==============================] - 0s 1ms/step - loss: 33502696.0000 - val_loss: 39572580.0000\n",
      "Epoch 161/300\n",
      "37/37 [==============================] - 0s 1ms/step - loss: 33354784.0000 - val_loss: 39389844.0000\n",
      "Epoch 162/300\n",
      "37/37 [==============================] - 0s 1ms/step - loss: 33229810.0000 - val_loss: 39274420.0000\n",
      "Epoch 163/300\n",
      "37/37 [==============================] - 0s 1ms/step - loss: 33176002.0000 - val_loss: 39083064.0000\n",
      "Epoch 164/300\n",
      "37/37 [==============================] - 0s 1ms/step - loss: 33015162.0000 - val_loss: 39047828.0000\n",
      "Epoch 165/300\n",
      "37/37 [==============================] - 0s 1ms/step - loss: 32922090.0000 - val_loss: 38838764.0000\n",
      "Epoch 166/300\n",
      "37/37 [==============================] - 0s 1ms/step - loss: 32827658.0000 - val_loss: 38739888.0000\n",
      "Epoch 167/300\n",
      "37/37 [==============================] - 0s 1ms/step - loss: 32733436.0000 - val_loss: 38626124.0000\n",
      "Epoch 168/300\n",
      "37/37 [==============================] - 0s 1ms/step - loss: 32636818.0000 - val_loss: 38542052.0000\n",
      "Epoch 169/300\n",
      "37/37 [==============================] - 0s 1ms/step - loss: 32548448.0000 - val_loss: 38446224.0000\n",
      "Epoch 170/300\n",
      "37/37 [==============================] - 0s 1ms/step - loss: 32479698.0000 - val_loss: 38350828.0000\n",
      "Epoch 171/300\n",
      "37/37 [==============================] - 0s 1ms/step - loss: 32391096.0000 - val_loss: 38225052.0000\n",
      "Epoch 172/300\n",
      "37/37 [==============================] - 0s 1ms/step - loss: 32374610.0000 - val_loss: 38135096.0000\n",
      "Epoch 173/300\n",
      "37/37 [==============================] - 0s 1ms/step - loss: 32246688.0000 - val_loss: 37999328.0000\n",
      "Epoch 174/300\n",
      "37/37 [==============================] - 0s 1ms/step - loss: 32167534.0000 - val_loss: 37909040.0000\n",
      "Epoch 175/300\n",
      "37/37 [==============================] - 0s 1ms/step - loss: 32085028.0000 - val_loss: 37827428.0000\n",
      "Epoch 176/300\n",
      "37/37 [==============================] - 0s 1ms/step - loss: 32017052.0000 - val_loss: 37778268.0000\n",
      "Epoch 177/300\n",
      "37/37 [==============================] - 0s 1ms/step - loss: 31949090.0000 - val_loss: 37638948.0000\n",
      "Epoch 178/300\n",
      "37/37 [==============================] - 0s 1ms/step - loss: 31897742.0000 - val_loss: 37579296.0000\n",
      "Epoch 179/300\n",
      "37/37 [==============================] - 0s 1ms/step - loss: 31809506.0000 - val_loss: 37483620.0000\n",
      "Epoch 180/300\n",
      "37/37 [==============================] - 0s 1ms/step - loss: 31751122.0000 - val_loss: 37433772.0000\n",
      "Epoch 181/300\n",
      "37/37 [==============================] - 0s 1ms/step - loss: 31697904.0000 - val_loss: 37328404.0000\n",
      "Epoch 182/300\n",
      "37/37 [==============================] - 0s 1ms/step - loss: 31601170.0000 - val_loss: 37245320.0000\n",
      "Epoch 183/300\n",
      "37/37 [==============================] - 0s 1ms/step - loss: 31569492.0000 - val_loss: 37192364.0000\n",
      "Epoch 184/300\n",
      "37/37 [==============================] - 0s 1ms/step - loss: 31518922.0000 - val_loss: 37096308.0000\n",
      "Epoch 185/300\n",
      "37/37 [==============================] - 0s 1ms/step - loss: 31462844.0000 - val_loss: 37015128.0000\n",
      "Epoch 186/300\n",
      "37/37 [==============================] - 0s 1ms/step - loss: 31397016.0000 - val_loss: 36943084.0000\n",
      "Epoch 187/300\n",
      "37/37 [==============================] - 0s 2ms/step - loss: 31379824.0000 - val_loss: 36884340.0000\n",
      "Epoch 188/300\n",
      "37/37 [==============================] - 0s 1ms/step - loss: 31313946.0000 - val_loss: 36831844.0000\n",
      "Epoch 189/300\n",
      "37/37 [==============================] - 0s 1ms/step - loss: 31256344.0000 - val_loss: 36768440.0000\n",
      "Epoch 190/300\n",
      "37/37 [==============================] - 0s 1ms/step - loss: 31246140.0000 - val_loss: 36736316.0000\n",
      "Epoch 191/300\n",
      "37/37 [==============================] - 0s 1ms/step - loss: 31171974.0000 - val_loss: 36644092.0000\n",
      "Epoch 192/300\n",
      "37/37 [==============================] - 0s 1ms/step - loss: 31128732.0000 - val_loss: 36585776.0000\n",
      "Epoch 193/300\n",
      "37/37 [==============================] - 0s 1ms/step - loss: 31121346.0000 - val_loss: 36582260.0000\n",
      "Epoch 194/300\n",
      "37/37 [==============================] - 0s 1ms/step - loss: 31095286.0000 - val_loss: 36485464.0000\n",
      "Epoch 195/300\n",
      "37/37 [==============================] - 0s 1ms/step - loss: 31031628.0000 - val_loss: 36436856.0000\n",
      "Epoch 196/300\n",
      "37/37 [==============================] - 0s 1ms/step - loss: 30954878.0000 - val_loss: 36389072.0000\n",
      "Epoch 197/300\n",
      "37/37 [==============================] - 0s 1ms/step - loss: 30926854.0000 - val_loss: 36327400.0000\n",
      "Epoch 198/300\n",
      "37/37 [==============================] - 0s 1ms/step - loss: 30884628.0000 - val_loss: 36280364.0000\n",
      "Epoch 199/300\n",
      "37/37 [==============================] - 0s 1ms/step - loss: 30876288.0000 - val_loss: 36258532.0000\n",
      "Epoch 200/300\n",
      "37/37 [==============================] - 0s 1ms/step - loss: 30848542.0000 - val_loss: 36188500.0000\n",
      "Epoch 201/300\n",
      "37/37 [==============================] - 0s 1ms/step - loss: 30802576.0000 - val_loss: 36134384.0000\n",
      "Epoch 202/300\n",
      "37/37 [==============================] - 0s 1ms/step - loss: 30752512.0000 - val_loss: 36094168.0000\n",
      "Epoch 203/300\n",
      "37/37 [==============================] - 0s 1ms/step - loss: 30749716.0000 - val_loss: 36047976.0000\n",
      "Epoch 204/300\n",
      "37/37 [==============================] - 0s 1ms/step - loss: 30802198.0000 - val_loss: 36107644.0000\n",
      "Epoch 205/300\n",
      "37/37 [==============================] - 0s 1ms/step - loss: 30674874.0000 - val_loss: 35956044.0000\n",
      "Epoch 206/300\n",
      "37/37 [==============================] - 0s 1ms/step - loss: 30626078.0000 - val_loss: 35909384.0000\n",
      "Epoch 207/300\n",
      "37/37 [==============================] - 0s 1ms/step - loss: 30614940.0000 - val_loss: 35965788.0000\n",
      "Epoch 208/300\n",
      "37/37 [==============================] - 0s 1ms/step - loss: 30591926.0000 - val_loss: 35856124.0000\n",
      "Epoch 209/300\n",
      "37/37 [==============================] - 0s 1ms/step - loss: 30553116.0000 - val_loss: 35818592.0000\n",
      "Epoch 210/300\n",
      "37/37 [==============================] - 0s 1ms/step - loss: 30536928.0000 - val_loss: 35749540.0000\n",
      "Epoch 211/300\n",
      "37/37 [==============================] - 0s 1ms/step - loss: 30504202.0000 - val_loss: 35744288.0000\n",
      "Epoch 212/300\n",
      "37/37 [==============================] - 0s 1ms/step - loss: 30450234.0000 - val_loss: 35643236.0000\n",
      "Epoch 213/300\n",
      "37/37 [==============================] - 0s 1ms/step - loss: 30426934.0000 - val_loss: 35627852.0000\n",
      "Epoch 214/300\n",
      "37/37 [==============================] - 0s 1ms/step - loss: 30437988.0000 - val_loss: 35625108.0000\n",
      "Epoch 215/300\n",
      "37/37 [==============================] - 0s 1ms/step - loss: 30374986.0000 - val_loss: 35538716.0000\n",
      "Epoch 216/300\n",
      "37/37 [==============================] - 0s 1ms/step - loss: 30326634.0000 - val_loss: 35507492.0000\n",
      "Epoch 217/300\n",
      "37/37 [==============================] - 0s 1ms/step - loss: 30314280.0000 - val_loss: 35491412.0000\n",
      "Epoch 218/300\n",
      "37/37 [==============================] - 0s 1ms/step - loss: 30276104.0000 - val_loss: 35452076.0000\n",
      "Epoch 219/300\n",
      "37/37 [==============================] - 0s 1ms/step - loss: 30262730.0000 - val_loss: 35385540.0000\n",
      "Epoch 220/300\n",
      "37/37 [==============================] - 0s 1ms/step - loss: 30209802.0000 - val_loss: 35369800.0000\n",
      "Epoch 221/300\n",
      "37/37 [==============================] - 0s 1ms/step - loss: 30202646.0000 - val_loss: 35331912.0000\n",
      "Epoch 222/300\n",
      "37/37 [==============================] - 0s 1ms/step - loss: 30171834.0000 - val_loss: 35284188.0000\n",
      "Epoch 223/300\n",
      "37/37 [==============================] - 0s 1ms/step - loss: 30126200.0000 - val_loss: 35252392.0000\n",
      "Epoch 224/300\n",
      "37/37 [==============================] - 0s 1ms/step - loss: 30116248.0000 - val_loss: 35211136.0000\n",
      "Epoch 225/300\n",
      "37/37 [==============================] - 0s 1ms/step - loss: 30125152.0000 - val_loss: 35169956.0000\n",
      "Epoch 226/300\n",
      "37/37 [==============================] - 0s 1ms/step - loss: 30040904.0000 - val_loss: 35153384.0000\n",
      "Epoch 227/300\n",
      "37/37 [==============================] - 0s 1ms/step - loss: 30020898.0000 - val_loss: 35101216.0000\n",
      "Epoch 228/300\n",
      "37/37 [==============================] - 0s 1ms/step - loss: 30000040.0000 - val_loss: 35065224.0000\n",
      "Epoch 229/300\n",
      "37/37 [==============================] - 0s 1ms/step - loss: 29999842.0000 - val_loss: 35071260.0000\n",
      "Epoch 230/300\n",
      "37/37 [==============================] - 0s 1ms/step - loss: 30000946.0000 - val_loss: 35015980.0000\n",
      "Epoch 231/300\n",
      "37/37 [==============================] - 0s 1ms/step - loss: 29983480.0000 - val_loss: 34971972.0000\n",
      "Epoch 232/300\n",
      "37/37 [==============================] - 0s 1ms/step - loss: 29974016.0000 - val_loss: 34937612.0000\n",
      "Epoch 233/300\n",
      "37/37 [==============================] - 0s 1ms/step - loss: 29879106.0000 - val_loss: 34905644.0000\n",
      "Epoch 234/300\n",
      "37/37 [==============================] - 0s 1ms/step - loss: 29861250.0000 - val_loss: 35018772.0000\n",
      "Epoch 235/300\n",
      "37/37 [==============================] - 0s 1ms/step - loss: 29858016.0000 - val_loss: 34844220.0000\n",
      "Epoch 236/300\n",
      "37/37 [==============================] - 0s 1ms/step - loss: 29855030.0000 - val_loss: 34814820.0000\n",
      "Epoch 237/300\n",
      "37/37 [==============================] - 0s 1ms/step - loss: 29812188.0000 - val_loss: 34792504.0000\n",
      "Epoch 238/300\n",
      "37/37 [==============================] - 0s 1ms/step - loss: 29807548.0000 - val_loss: 34791860.0000\n",
      "Epoch 239/300\n",
      "37/37 [==============================] - 0s 1ms/step - loss: 29773898.0000 - val_loss: 34747964.0000\n",
      "Epoch 240/300\n",
      "37/37 [==============================] - 0s 1ms/step - loss: 29756016.0000 - val_loss: 34746236.0000\n",
      "Epoch 241/300\n",
      "37/37 [==============================] - 0s 1ms/step - loss: 29791338.0000 - val_loss: 34695204.0000\n",
      "Epoch 242/300\n",
      "37/37 [==============================] - 0s 1ms/step - loss: 29720880.0000 - val_loss: 34681812.0000\n",
      "Epoch 243/300\n",
      "37/37 [==============================] - 0s 1ms/step - loss: 29734178.0000 - val_loss: 34673736.0000\n",
      "Epoch 244/300\n",
      "37/37 [==============================] - 0s 1ms/step - loss: 29797958.0000 - val_loss: 34645836.0000\n",
      "Epoch 245/300\n",
      "37/37 [==============================] - 0s 1ms/step - loss: 29674742.0000 - val_loss: 34626140.0000\n",
      "Epoch 246/300\n",
      "37/37 [==============================] - 0s 1ms/step - loss: 29687514.0000 - val_loss: 34587728.0000\n",
      "Epoch 247/300\n",
      "37/37 [==============================] - 0s 1ms/step - loss: 29667264.0000 - val_loss: 34581012.0000\n",
      "Epoch 248/300\n",
      "37/37 [==============================] - 0s 1ms/step - loss: 29640730.0000 - val_loss: 34552600.0000\n",
      "Epoch 249/300\n",
      "37/37 [==============================] - 0s 1ms/step - loss: 29636402.0000 - val_loss: 34524680.0000\n",
      "Epoch 250/300\n",
      "37/37 [==============================] - 0s 1ms/step - loss: 29615244.0000 - val_loss: 34544944.0000\n",
      "Epoch 251/300\n",
      "37/37 [==============================] - 0s 1ms/step - loss: 29608322.0000 - val_loss: 34479760.0000\n",
      "Epoch 252/300\n",
      "37/37 [==============================] - 0s 2ms/step - loss: 29592430.0000 - val_loss: 34456920.0000\n",
      "Epoch 253/300\n",
      "37/37 [==============================] - 0s 1ms/step - loss: 29581788.0000 - val_loss: 34452764.0000\n",
      "Epoch 254/300\n",
      "37/37 [==============================] - 0s 1ms/step - loss: 29577622.0000 - val_loss: 34414652.0000\n",
      "Epoch 255/300\n",
      "37/37 [==============================] - 0s 1ms/step - loss: 29551952.0000 - val_loss: 34392544.0000\n",
      "Epoch 256/300\n",
      "37/37 [==============================] - 0s 1ms/step - loss: 29560754.0000 - val_loss: 34434044.0000\n",
      "Epoch 257/300\n",
      "37/37 [==============================] - 0s 1ms/step - loss: 29546736.0000 - val_loss: 34365260.0000\n",
      "Epoch 258/300\n",
      "37/37 [==============================] - 0s 1ms/step - loss: 29498786.0000 - val_loss: 34331036.0000\n",
      "Epoch 259/300\n",
      "37/37 [==============================] - 0s 1ms/step - loss: 29499838.0000 - val_loss: 34401816.0000\n",
      "Epoch 260/300\n",
      "37/37 [==============================] - 0s 1ms/step - loss: 29514344.0000 - val_loss: 34306848.0000\n",
      "Epoch 261/300\n",
      "37/37 [==============================] - 0s 1ms/step - loss: 29495536.0000 - val_loss: 34292792.0000\n",
      "Epoch 262/300\n",
      "37/37 [==============================] - 0s 1ms/step - loss: 29448428.0000 - val_loss: 34271252.0000\n",
      "Epoch 263/300\n",
      "37/37 [==============================] - 0s 1ms/step - loss: 29513004.0000 - val_loss: 34291964.0000\n",
      "Epoch 264/300\n",
      "37/37 [==============================] - 0s 1ms/step - loss: 29415964.0000 - val_loss: 34313128.0000\n",
      "Epoch 265/300\n",
      "37/37 [==============================] - 0s 1ms/step - loss: 29451722.0000 - val_loss: 34221504.0000\n",
      "Epoch 266/300\n",
      "37/37 [==============================] - 0s 1ms/step - loss: 29484984.0000 - val_loss: 34200964.0000\n",
      "Epoch 267/300\n",
      "37/37 [==============================] - 0s 1ms/step - loss: 29437968.0000 - val_loss: 34183892.0000\n",
      "Epoch 268/300\n",
      "37/37 [==============================] - 0s 1ms/step - loss: 29412866.0000 - val_loss: 34179376.0000\n",
      "Epoch 269/300\n",
      "37/37 [==============================] - 0s 1ms/step - loss: 29412046.0000 - val_loss: 34181836.0000\n",
      "Epoch 270/300\n",
      "37/37 [==============================] - 0s 1ms/step - loss: 29404148.0000 - val_loss: 34176588.0000\n",
      "Epoch 271/300\n",
      "37/37 [==============================] - 0s 1ms/step - loss: 29379990.0000 - val_loss: 34140100.0000\n",
      "Epoch 272/300\n",
      "37/37 [==============================] - 0s 1ms/step - loss: 29374718.0000 - val_loss: 34129748.0000\n",
      "Epoch 273/300\n",
      "37/37 [==============================] - 0s 1ms/step - loss: 29370154.0000 - val_loss: 34136124.0000\n",
      "Epoch 274/300\n",
      "37/37 [==============================] - 0s 1ms/step - loss: 29381340.0000 - val_loss: 34115408.0000\n",
      "Epoch 275/300\n",
      "37/37 [==============================] - 0s 1ms/step - loss: 29335724.0000 - val_loss: 34081616.0000\n",
      "Epoch 276/300\n",
      "37/37 [==============================] - 0s 1ms/step - loss: 29311872.0000 - val_loss: 34066680.0000\n",
      "Epoch 277/300\n",
      "37/37 [==============================] - 0s 1ms/step - loss: 29351746.0000 - val_loss: 34064920.0000\n",
      "Epoch 278/300\n",
      "37/37 [==============================] - 0s 1ms/step - loss: 29319756.0000 - val_loss: 34044644.0000\n",
      "Epoch 279/300\n",
      "37/37 [==============================] - 0s 1ms/step - loss: 29289224.0000 - val_loss: 34026448.0000\n",
      "Epoch 280/300\n",
      "37/37 [==============================] - 0s 1ms/step - loss: 29302692.0000 - val_loss: 34155964.0000\n",
      "Epoch 281/300\n",
      "37/37 [==============================] - 0s 1ms/step - loss: 29304268.0000 - val_loss: 34007128.0000\n",
      "Epoch 282/300\n",
      "37/37 [==============================] - 0s 1ms/step - loss: 29270450.0000 - val_loss: 34008536.0000\n",
      "Epoch 283/300\n",
      "37/37 [==============================] - 0s 1ms/step - loss: 29297954.0000 - val_loss: 33997652.0000\n",
      "Epoch 284/300\n",
      "37/37 [==============================] - 0s 1ms/step - loss: 29276262.0000 - val_loss: 33978172.0000\n",
      "Epoch 285/300\n",
      "37/37 [==============================] - 0s 1ms/step - loss: 29239586.0000 - val_loss: 33955004.0000\n",
      "Epoch 286/300\n",
      "37/37 [==============================] - 0s 1ms/step - loss: 29252452.0000 - val_loss: 33964544.0000\n",
      "Epoch 287/300\n",
      "37/37 [==============================] - 0s 1ms/step - loss: 29322380.0000 - val_loss: 33954064.0000\n",
      "Epoch 288/300\n",
      "37/37 [==============================] - 0s 1ms/step - loss: 29199636.0000 - val_loss: 33967408.0000\n",
      "Epoch 289/300\n",
      "37/37 [==============================] - 0s 1ms/step - loss: 29229022.0000 - val_loss: 33956448.0000\n",
      "Epoch 290/300\n",
      "37/37 [==============================] - 0s 1ms/step - loss: 29249294.0000 - val_loss: 33922828.0000\n",
      "Epoch 291/300\n",
      "37/37 [==============================] - 0s 1ms/step - loss: 29228612.0000 - val_loss: 33924612.0000\n",
      "Epoch 292/300\n",
      "37/37 [==============================] - 0s 1ms/step - loss: 29194674.0000 - val_loss: 33865584.0000\n",
      "Epoch 293/300\n",
      "37/37 [==============================] - 0s 1ms/step - loss: 29172136.0000 - val_loss: 33865296.0000\n",
      "Epoch 294/300\n",
      "37/37 [==============================] - 0s 1ms/step - loss: 29167070.0000 - val_loss: 33871724.0000\n",
      "Epoch 295/300\n",
      "37/37 [==============================] - 0s 1ms/step - loss: 29150994.0000 - val_loss: 33845872.0000\n",
      "Epoch 296/300\n",
      "37/37 [==============================] - 0s 1ms/step - loss: 29163662.0000 - val_loss: 33822972.0000\n",
      "Epoch 297/300\n",
      "37/37 [==============================] - 0s 1ms/step - loss: 29163056.0000 - val_loss: 33819728.0000\n",
      "Epoch 298/300\n",
      "37/37 [==============================] - 0s 1ms/step - loss: 29133938.0000 - val_loss: 33860708.0000\n",
      "Epoch 299/300\n",
      "37/37 [==============================] - 0s 1ms/step - loss: 29128078.0000 - val_loss: 33890904.0000\n",
      "Epoch 300/300\n",
      "37/37 [==============================] - 0s 1ms/step - loss: 29163130.0000 - val_loss: 33775288.0000\n"
     ]
    },
    {
     "data": {
      "text/plain": [
       "<keras.src.callbacks.History at 0x29c7e8150>"
      ]
     },
     "execution_count": 117,
     "metadata": {},
     "output_type": "execute_result"
    }
   ],
   "source": [
    "model.fit(x=x_train, y=y_train, validation_data=(x_test, y_test), batch_size=250, epochs=300)\n"
   ]
  },
  {
   "cell_type": "code",
   "execution_count": 118,
   "metadata": {},
   "outputs": [],
   "source": [
    "kayipVerisi = pd.DataFrame(model.history.history)"
   ]
  },
  {
   "cell_type": "code",
   "execution_count": 119,
   "metadata": {},
   "outputs": [
    {
     "data": {
      "text/html": [
       "<div>\n",
       "<style scoped>\n",
       "    .dataframe tbody tr th:only-of-type {\n",
       "        vertical-align: middle;\n",
       "    }\n",
       "\n",
       "    .dataframe tbody tr th {\n",
       "        vertical-align: top;\n",
       "    }\n",
       "\n",
       "    .dataframe thead th {\n",
       "        text-align: right;\n",
       "    }\n",
       "</style>\n",
       "<table border=\"1\" class=\"dataframe\">\n",
       "  <thead>\n",
       "    <tr style=\"text-align: right;\">\n",
       "      <th></th>\n",
       "      <th>loss</th>\n",
       "      <th>val_loss</th>\n",
       "    </tr>\n",
       "  </thead>\n",
       "  <tbody>\n",
       "    <tr>\n",
       "      <th>0</th>\n",
       "      <td>741591168.0</td>\n",
       "      <td>770439040.0</td>\n",
       "    </tr>\n",
       "    <tr>\n",
       "      <th>1</th>\n",
       "      <td>741549504.0</td>\n",
       "      <td>770372736.0</td>\n",
       "    </tr>\n",
       "    <tr>\n",
       "      <th>2</th>\n",
       "      <td>741438336.0</td>\n",
       "      <td>770189824.0</td>\n",
       "    </tr>\n",
       "    <tr>\n",
       "      <th>3</th>\n",
       "      <td>741121728.0</td>\n",
       "      <td>769671488.0</td>\n",
       "    </tr>\n",
       "    <tr>\n",
       "      <th>4</th>\n",
       "      <td>740275328.0</td>\n",
       "      <td>768355776.0</td>\n",
       "    </tr>\n",
       "  </tbody>\n",
       "</table>\n",
       "</div>"
      ],
      "text/plain": [
       "          loss     val_loss\n",
       "0  741591168.0  770439040.0\n",
       "1  741549504.0  770372736.0\n",
       "2  741438336.0  770189824.0\n",
       "3  741121728.0  769671488.0\n",
       "4  740275328.0  768355776.0"
      ]
     },
     "execution_count": 119,
     "metadata": {},
     "output_type": "execute_result"
    }
   ],
   "source": [
    "kayipVerisi.head()"
   ]
  },
  {
   "cell_type": "code",
   "execution_count": 120,
   "metadata": {},
   "outputs": [
    {
     "data": {
      "text/plain": [
       "<AxesSubplot: >"
      ]
     },
     "execution_count": 120,
     "metadata": {},
     "output_type": "execute_result"
    },
    {
     "data": {
      "image/png": "[encoded data removed]",
      "text/plain": [
       "<Figure size 640x480 with 1 Axes>"
      ]
     },
     "metadata": {},
     "output_type": "display_data"
    }
   ],
   "source": [
    "kayipVerisi.plot()"
   ]
  },
  {
   "cell_type": "code",
   "execution_count": 121,
   "metadata": {},
   "outputs": [],
   "source": [
    "from sklearn.metrics import mean_squared_error,mean_absolute_error"
   ]
  },
  {
   "cell_type": "code",
   "execution_count": 122,
   "metadata": {},
   "outputs": [
    {
     "name": "stdout",
     "output_type": "stream",
     "text": [
      "123/123 [==============================] - 0s 462us/step\n"
     ]
    }
   ],
   "source": [
    "tahminDizisi = model.predict(x_test)"
   ]
  },
  {
   "cell_type": "code",
   "execution_count": 123,
   "metadata": {},
   "outputs": [
    {
     "data": {
      "text/plain": [
       "array([[39237.94 ],\n",
       "       [30242.432],\n",
       "       [42015.453],\n",
       "       ...,\n",
       "       [23495.422],\n",
       "       [18711.738],\n",
       "       [21675.268]], dtype=float32)"
      ]
     },
     "execution_count": 123,
     "metadata": {},
     "output_type": "execute_result"
    }
   ],
   "source": [
    "tahminDizisi"
   ]
  },
  {
   "cell_type": "code",
   "execution_count": 124,
   "metadata": {},
   "outputs": [
    {
     "data": {
      "text/plain": [
       "3513.4313620280445"
      ]
     },
     "execution_count": 124,
     "metadata": {},
     "output_type": "execute_result"
    }
   ],
   "source": [
    "mean_absolute_error(y_test,tahminDizisi)"
   ]
  },
  {
   "cell_type": "code",
   "execution_count": 125,
   "metadata": {},
   "outputs": [
    {
     "data": {
      "text/html": [
       "<div>\n",
       "<style scoped>\n",
       "    .dataframe tbody tr th:only-of-type {\n",
       "        vertical-align: middle;\n",
       "    }\n",
       "\n",
       "    .dataframe tbody tr th {\n",
       "        vertical-align: top;\n",
       "    }\n",
       "\n",
       "    .dataframe thead th {\n",
       "        text-align: right;\n",
       "    }\n",
       "</style>\n",
       "<table border=\"1\" class=\"dataframe\">\n",
       "  <thead>\n",
       "    <tr style=\"text-align: right;\">\n",
       "      <th></th>\n",
       "      <th>year</th>\n",
       "      <th>price</th>\n",
       "      <th>mileage</th>\n",
       "      <th>tax</th>\n",
       "      <th>mpg</th>\n",
       "      <th>engineSize</th>\n",
       "    </tr>\n",
       "  </thead>\n",
       "  <tbody>\n",
       "    <tr>\n",
       "      <th>count</th>\n",
       "      <td>13118.000000</td>\n",
       "      <td>13118.000000</td>\n",
       "      <td>13118.00000</td>\n",
       "      <td>13118.000000</td>\n",
       "      <td>13118.000000</td>\n",
       "      <td>13118.000000</td>\n",
       "    </tr>\n",
       "    <tr>\n",
       "      <th>mean</th>\n",
       "      <td>2017.299893</td>\n",
       "      <td>24698.574020</td>\n",
       "      <td>21950.16504</td>\n",
       "      <td>129.958835</td>\n",
       "      <td>55.157059</td>\n",
       "      <td>2.071688</td>\n",
       "    </tr>\n",
       "    <tr>\n",
       "      <th>std</th>\n",
       "      <td>2.186129</td>\n",
       "      <td>11843.126668</td>\n",
       "      <td>21177.20571</td>\n",
       "      <td>65.244877</td>\n",
       "      <td>15.220025</td>\n",
       "      <td>0.572162</td>\n",
       "    </tr>\n",
       "    <tr>\n",
       "      <th>min</th>\n",
       "      <td>1997.000000</td>\n",
       "      <td>650.000000</td>\n",
       "      <td>1.00000</td>\n",
       "      <td>0.000000</td>\n",
       "      <td>1.100000</td>\n",
       "      <td>0.000000</td>\n",
       "    </tr>\n",
       "    <tr>\n",
       "      <th>25%</th>\n",
       "      <td>2016.000000</td>\n",
       "      <td>17450.000000</td>\n",
       "      <td>6096.75000</td>\n",
       "      <td>125.000000</td>\n",
       "      <td>45.600000</td>\n",
       "      <td>1.800000</td>\n",
       "    </tr>\n",
       "    <tr>\n",
       "      <th>50%</th>\n",
       "      <td>2018.000000</td>\n",
       "      <td>22480.000000</td>\n",
       "      <td>15189.00000</td>\n",
       "      <td>145.000000</td>\n",
       "      <td>56.500000</td>\n",
       "      <td>2.000000</td>\n",
       "    </tr>\n",
       "    <tr>\n",
       "      <th>75%</th>\n",
       "      <td>2019.000000</td>\n",
       "      <td>28980.000000</td>\n",
       "      <td>31781.75000</td>\n",
       "      <td>145.000000</td>\n",
       "      <td>64.200000</td>\n",
       "      <td>2.100000</td>\n",
       "    </tr>\n",
       "    <tr>\n",
       "      <th>max</th>\n",
       "      <td>2020.000000</td>\n",
       "      <td>159999.000000</td>\n",
       "      <td>259000.00000</td>\n",
       "      <td>580.000000</td>\n",
       "      <td>217.300000</td>\n",
       "      <td>6.200000</td>\n",
       "    </tr>\n",
       "  </tbody>\n",
       "</table>\n",
       "</div>"
      ],
      "text/plain": [
       "               year          price       mileage           tax           mpg  \\\n",
       "count  13118.000000   13118.000000   13118.00000  13118.000000  13118.000000   \n",
       "mean    2017.299893   24698.574020   21950.16504    129.958835     55.157059   \n",
       "std        2.186129   11843.126668   21177.20571     65.244877     15.220025   \n",
       "min     1997.000000     650.000000       1.00000      0.000000      1.100000   \n",
       "25%     2016.000000   17450.000000    6096.75000    125.000000     45.600000   \n",
       "50%     2018.000000   22480.000000   15189.00000    145.000000     56.500000   \n",
       "75%     2019.000000   28980.000000   31781.75000    145.000000     64.200000   \n",
       "max     2020.000000  159999.000000  259000.00000    580.000000    217.300000   \n",
       "\n",
       "         engineSize  \n",
       "count  13118.000000  \n",
       "mean       2.071688  \n",
       "std        0.572162  \n",
       "min        0.000000  \n",
       "25%        1.800000  \n",
       "50%        2.000000  \n",
       "75%        2.100000  \n",
       "max        6.200000  "
      ]
     },
     "execution_count": 125,
     "metadata": {},
     "output_type": "execute_result"
    }
   ],
   "source": [
    "dataFrame.describe() # Ortalama pricedan da anlaşılacağı üzere hata payı oldukça yüksek"
   ]
  },
  {
   "cell_type": "code",
   "execution_count": 126,
   "metadata": {},
   "outputs": [
    {
     "data": {
      "text/plain": [
       "[<matplotlib.lines.Line2D at 0x29c595090>]"
      ]
     },
     "execution_count": 126,
     "metadata": {},
     "output_type": "execute_result"
    },
    {
     "data": {
      "image/png": "[encoded data removed]",
      "text/plain": [
       "<Figure size 640x480 with 1 Axes>"
      ]
     },
     "metadata": {},
     "output_type": "display_data"
    }
   ],
   "source": [
    "plt.scatter(y_test, tahminDizisi)\n",
    "plt.plot(y_test,y_test,\"g-*\")"
   ]
  },
  {
   "cell_type": "code",
   "execution_count": 128,
   "metadata": {},
   "outputs": [
    {
     "data": {
      "text/plain": [
       "year           2016.0\n",
       "price         49948.0\n",
       "mileage        6200.0\n",
       "tax             555.0\n",
       "mpg              28.0\n",
       "engineSize        5.5\n",
       "Name: 2, dtype: float64"
      ]
     },
     "execution_count": 128,
     "metadata": {},
     "output_type": "execute_result"
    }
   ],
   "source": [
    "dataFrame.iloc[2\n",
    "]"
   ]
  },
  {
   "cell_type": "code",
   "execution_count": 130,
   "metadata": {},
   "outputs": [],
   "source": [
    "yeniArabaSeries = dataFrame.drop(\"price\",axis=1).iloc[2]"
   ]
  },
  {
   "cell_type": "code",
   "execution_count": 131,
   "metadata": {},
   "outputs": [
    {
     "data": {
      "text/plain": [
       "pandas.core.series.Series"
      ]
     },
     "execution_count": 131,
     "metadata": {},
     "output_type": "execute_result"
    }
   ],
   "source": [
    "type(yeniArabaSeries)"
   ]
  },
  {
   "cell_type": "code",
   "execution_count": 132,
   "metadata": {},
   "outputs": [],
   "source": [
    "yeniArabaSeries = scaler.transform(yeniArabaSeries.values.reshape(-1,5)) # Veriyi iki boyutlu işlediği için yaptık"
   ]
  },
  {
   "cell_type": "code",
   "execution_count": 134,
   "metadata": {},
   "outputs": [
    {
     "name": "stdout",
     "output_type": "stream",
     "text": [
      "1/1 [==============================] - 0s 14ms/step\n"
     ]
    },
    {
     "data": {
      "text/plain": [
       "array([[62452.547]], dtype=float32)"
      ]
     },
     "execution_count": 134,
     "metadata": {},
     "output_type": "execute_result"
    }
   ],
   "source": [
    "model.predict(yeniArabaSeries) # tahmin --> 62452.547, gerçek --> 49948.0 \n",
    "                               # model öğrenmesi başarılı değil uzak tahminler yapıyor"
   ]
  },
  {
   "cell_type": "code",
   "execution_count": null,
   "metadata": {},
   "outputs": [],
   "source": []
  }
 ],
 "metadata": {
  "kernelspec": {
   "display_name": "Python 3",
   "language": "python",
   "name": "python3"
  },
  "language_info": {
   "codemirror_mode": {
    "name": "ipython",
    "version": 3
   },
   "file_extension": ".py",
   "mimetype": "text/x-python",
   "name": "python",
   "nbconvert_exporter": "python",
   "pygments_lexer": "ipython3",
   "version": "3.11.0"
  },
  "orig_nbformat": 4,
  "vscode": {
   "interpreter": {
    "hash": "aee8b7b246df8f9039afb4144a1f6fd8d2ca17a180786b69acc140d282b71a49"
   }
  }
 },
 "nbformat": 4,
 "nbformat_minor": 2
}
